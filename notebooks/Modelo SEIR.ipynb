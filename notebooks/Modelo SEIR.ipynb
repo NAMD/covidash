{
 "cells": [
  {
   "cell_type": "markdown",
   "metadata": {},
   "source": [
    "# Modelagem SEIR\n",
    "Neste notebook está implementado o modelo SEIR de Zhilan Feng. Que inclui quarentena, e hospitalizações\n",
    "\n",
    "\\begin{align}\n",
    "\\frac{dS}{dt}&=-\\beta S (I+(1-\\rho)H)\\\\\n",
    "\\frac{dE}{dt}&= \\beta S (I+(1-\\rho)H)-(\\chi+\\alpha)E\\\\\n",
    "\\frac{dQ}{dt}&=\\chi E -\\alpha Q\\\\\n",
    "\\frac{dI}{dt}&= \\alpha E - (\\phi+\\delta)I\\\\\n",
    "\\frac{dH}{dt}&= \\alpha Q +\\phi I -\\delta H\\\\\n",
    "\\frac{dR}{dt}&= \\delta I +\\delta H\n",
    "\\end{align}\n",
    "\n",
    "Denotando o tamanho total da epidemia por $Y_e(t)=E(t)+Q(t)+I(t)+H(t)$, podemos escrever\n",
    "\\begin{align}\n",
    "\\nonumber \\frac{dY_e}{dt}&= \\frac{dE}{dt}+\\frac{dQ}{dt}+\\frac{dI}{dt}+\\frac{dH}{dt}\\\\\n",
    "\\label{ye}&=\\beta S (I(1-\\rho)H) -\\delta(I+H)\n",
    "\\end{align}\n"
   ]
  },
  {
   "cell_type": "code",
   "execution_count": 13,
   "metadata": {
    "ExecuteTime": {
     "end_time": "2020-04-01T12:07:10.548460Z",
     "start_time": "2020-04-01T12:07:10.536848Z"
    }
   },
   "outputs": [
    {
     "name": "stdout",
     "output_type": "stream",
     "text": [
      "Populating the interactive namespace from numpy and matplotlib\n"
     ]
    },
    {
     "name": "stderr",
     "output_type": "stream",
     "text": [
      "/usr/local/lib/python3.7/dist-packages/IPython/core/magics/pylab.py:160: UserWarning: pylab import has clobbered these variables: ['beta', 'interactive']\n",
      "`%matplotlib` prevents importing * from pylab and numpy\n",
      "  \"\\n`%matplotlib` prevents importing * from pylab and numpy\"\n"
     ]
    }
   ],
   "source": [
    "from scipy.integrate import odeint\n",
    "from ipywidgets import interact, interactive, fixed, interact_manual\n",
    "import ipywidgets as widgets\n",
    "%pylab inline"
   ]
  },
  {
   "cell_type": "code",
   "execution_count": 14,
   "metadata": {
    "ExecuteTime": {
     "end_time": "2020-04-01T12:07:12.362352Z",
     "start_time": "2020-04-01T12:07:12.352620Z"
    }
   },
   "outputs": [],
   "source": [
    "def seqihr(y,t,*params):\n",
    "    S,E,Q,I,H,R = y\n",
    "    chi,phi,beta,rho,delta,alpha = params\n",
    "    return[\n",
    "        -beta*S*(I+(1-rho)*H), #dS/dt\n",
    "        beta*S*(I+(1-rho)*H) - (chi+alpha)*E,#dE/dt\n",
    "        chi*E -alpha*Q,#dQ/dt\n",
    "        alpha*E - (phi+delta)*I,#dI/dt\n",
    "        alpha*Q + phi*I -delta*H,#dH/dt\n",
    "        delta*I + delta*H,#dR/dt\n",
    "    ]"
   ]
  },
  {
   "cell_type": "code",
   "execution_count": 15,
   "metadata": {
    "ExecuteTime": {
     "end_time": "2020-04-01T12:07:13.471174Z",
     "start_time": "2020-04-01T12:07:13.461259Z"
    }
   },
   "outputs": [],
   "source": [
    "chi=.05  # Taxa de quarentenação\n",
    "phi=.01 # Taxa de Hospitalização\n",
    "beta=.2 #taxa de Transmissão\n",
    "rho=.6 # Attenuation of the transmission when in hospital\n",
    "delta=1/10 # Taxa de recuperação hospitalar\n",
    "alpha=1/3 # Taxa de incubaçao"
   ]
  },
  {
   "cell_type": "code",
   "execution_count": 16,
   "metadata": {
    "ExecuteTime": {
     "end_time": "2020-04-01T12:07:14.371170Z",
     "start_time": "2020-04-01T12:07:14.351757Z"
    }
   },
   "outputs": [],
   "source": [
    "inits = [0.9,.1,0,0,0,0]\n",
    "trange = arange(0,100,.1)\n",
    "res = odeint(seqihr,inits,trange,args=(chi,phi,beta,rho,delta,alpha))"
   ]
  },
  {
   "cell_type": "code",
   "execution_count": 17,
   "metadata": {
    "ExecuteTime": {
     "end_time": "2020-04-01T12:07:22.403676Z",
     "start_time": "2020-04-01T12:07:22.034846Z"
    }
   },
   "outputs": [
    {
     "data": {
      "application/vnd.jupyter.widget-view+json": {
       "model_id": "147d83affffb4cc0a027c41073e07073",
       "version_major": 2,
       "version_minor": 0
      },
      "text/plain": [
       "interactive(children=(FloatSlider(value=0.05, description='chi', max=0.1, step=0.01), FloatSlider(value=0.01, …"
      ]
     },
     "metadata": {},
     "output_type": "display_data"
    }
   ],
   "source": [
    "\n",
    "@interact(chi=(0,.1, 0.01),phi=(0,.1,.005),beta=(0,.5,.05),rho=(0,1,.1),delta=(0,1,.05),alpha=(0,1,0.01))\n",
    "def plota_simulação(chi=0.05,phi=.01,beta=.2,rho=.6,delta=.1,alpha=.33):\n",
    "    res = odeint(seqihr,inits,trange,args=(chi,phi,beta,rho,delta,alpha))\n",
    "    fig, ax = subplots(1,1, figsize=(15,10))\n",
    "    ax.plot(trange,res[:,1:-1])\n",
    "    ax.set_ylabel('Fração da População')\n",
    "    ax.set_xlabel('Tempo (dias)')\n",
    "    ax.grid()\n",
    "    ax.legend(['Exposto','Quar','Inf','Hosp']);"
   ]
  },
  {
   "cell_type": "markdown",
   "metadata": {},
   "source": [
    "## Adicionando Assintomáticos\n",
    "![Diagrama de blocos](seqiahr.jpg \"Modelo\")\n",
    "O modelo de Feng não é apropriado para representar a epidemia da COVID-19. Vamos Modificá-lo para incluir entre outras coisas, os assintomáticos. Para simplificar a notação vamos denotar por $\\lambda=\\beta(I\\color{red}{+A}+(1-\\rho)H)$, já incluindo os assintomáticos, $A$.\n",
    "\n",
    "\\begin{align}\n",
    "\\frac{dS}{dt}&=-\\lambda S \\\\\n",
    "\\frac{dE}{dt}&= \\lambda S -(\\chi+\\alpha)E\\\\\n",
    "\\frac{dQ}{dt}&=\\chi E -\\color{red}{(\\phi+\\delta)} Q\\\\\n",
    "\\frac{dI}{dt}&= \\color{red}{(1-p)}\\alpha E - (\\phi+\\delta)I\\\\\n",
    "\\color{red}{\\frac{dA}{dt}}&= \\color{red}{p\\alpha E -\\delta A}\\\\\n",
    "\\frac{dH}{dt}&= \\color{red}{\\phi} Q +\\phi I -\\delta H\\\\\n",
    "\\frac{dR}{dt}&= \\delta I +\\delta H \\color{red}{+ \\delta A +\\delta Q}\n",
    "\\end{align}\n",
    "\n",
    "Neste novo modelo alteramos mais algumas coisinhas resaltadas em vermelho acima. em primeiro lugar fizemos com que a taxa de hospitalização dos quarentenados, seja a mesma que a dos infectados e permitimos que se recuperem sem hospitalização. Além disso, para alimentar a classe dos Assintomáticos, definimos $p$ como a fração de assintomáticos na população. $R_0\\approx$"
   ]
  },
  {
   "cell_type": "code",
   "execution_count": 23,
   "metadata": {
    "ExecuteTime": {
     "end_time": "2020-04-01T12:44:35.419657Z",
     "start_time": "2020-04-01T12:44:35.413403Z"
    }
   },
   "outputs": [],
   "source": [
    "def seqiahr(y,t,*params):\n",
    "    S,E,Q,I,A,H,R = y\n",
    "    chi,phi,beta,rho,delta,alpha,p = params\n",
    "    return[\n",
    "        -beta*S*(I+A+(1-rho)*H), #dS/dt\n",
    "        beta*S*(I+A+(1-rho)*H) - (chi+alpha)*E,#dE/dt\n",
    "        chi*E -(phi+delta)*Q,#dQ/dt\n",
    "        (1-p)*alpha*E - (phi+delta)*I,#dI/dt\n",
    "        p*alpha*E - delta*A,\n",
    "        phi*Q + phi*I -delta*H,#dH/dt\n",
    "        delta*I + delta*H+delta*A + delta*Q,#dR/dt\n",
    "    ]"
   ]
  },
  {
   "cell_type": "code",
   "execution_count": 48,
   "metadata": {
    "ExecuteTime": {
     "end_time": "2020-04-01T13:48:54.282534Z",
     "start_time": "2020-04-01T13:48:53.880983Z"
    }
   },
   "outputs": [
    {
     "data": {
      "application/vnd.jupyter.widget-view+json": {
       "model_id": "82e237189d394d32aa77e5ff29c92cd3",
       "version_major": 2,
       "version_minor": 0
      },
      "text/plain": [
       "interactive(children=(FloatSlider(value=0.05, description='chi', max=1.0, step=0.05), FloatSlider(value=0.01, …"
      ]
     },
     "metadata": {},
     "output_type": "display_data"
    }
   ],
   "source": [
    "inits = [0.9,.1,0, 0,0,0,0]\n",
    "@interact(chi=(0,1, 0.05),phi=(0,.5,.01),beta=(0,1.5,.05),rho=(0,1,.1),delta=(0,1,.05),alpha=(0,1,0.01),p=(0,1,.05))\n",
    "def plota_simulação(chi=0.05,phi=.01,beta=.25,rho=.6,delta=.1,alpha=.33, p=.5):\n",
    "    res = odeint(seqiahr,inits,trange,args=(chi,phi,beta,rho,delta,alpha,p))\n",
    "    et = delta/beta\n",
    "    idx = np.argwhere(np.abs(res[:,0]-et)==min(np.abs(res[:,0]-et)))[0,0]\n",
    "    fig, ax = subplots(1,1, figsize=(15,10))\n",
    "    ax.plot(trange,res[:,1:-1])\n",
    "    ax.text(80,0.08,f\"$R_0~{beta/delta}$\\n$p={p}$\\n$\\\\rho={rho}$\")\n",
    "    ax.vlines(trange[idx],0,res[:,1:-1].max())\n",
    "    ax.set_ylabel('Fração da População')\n",
    "    ax.set_xlabel('Tempo (dias)')\n",
    "    ax.grid()\n",
    "    ax.legend(['Exposto','Quar','Inf', 'Assintomático','Hosp']);"
   ]
  },
  {
   "cell_type": "code",
   "execution_count": null,
   "metadata": {},
   "outputs": [],
   "source": []
  }
 ],
 "metadata": {
  "kernelspec": {
   "display_name": "Python 3",
   "language": "python",
   "name": "python3"
  },
  "language_info": {
   "codemirror_mode": {
    "name": "ipython",
    "version": 3
   },
   "file_extension": ".py",
   "mimetype": "text/x-python",
   "name": "python",
   "nbconvert_exporter": "python",
   "pygments_lexer": "ipython3",
   "version": "3.7.5"
  },
  "latex_envs": {
   "LaTeX_envs_menu_present": true,
   "autoclose": false,
   "autocomplete": true,
   "bibliofile": "biblio.bib",
   "cite_by": "apalike",
   "current_citInitial": 1,
   "eqLabelWithNumbers": true,
   "eqNumInitial": 1,
   "hotkeys": {
    "equation": "Ctrl-E",
    "itemize": "Ctrl-I"
   },
   "labels_anchors": false,
   "latex_user_defs": false,
   "report_style_numbering": false,
   "user_envs_cfg": false
  },
  "toc": {
   "base_numbering": 1,
   "nav_menu": {},
   "number_sections": true,
   "sideBar": true,
   "skip_h1_title": false,
   "title_cell": "Table of Contents",
   "title_sidebar": "Contents",
   "toc_cell": false,
   "toc_position": {
    "height": "calc(100% - 180px)",
    "left": "10px",
    "top": "150px",
    "width": "204.4px"
   },
   "toc_section_display": true,
   "toc_window_display": true
  },
  "varInspector": {
   "cols": {
    "lenName": 16,
    "lenType": 16,
    "lenVar": 40
   },
   "kernels_config": {
    "python": {
     "delete_cmd_postfix": "",
     "delete_cmd_prefix": "del ",
     "library": "var_list.py",
     "varRefreshCmd": "print(var_dic_list())"
    },
    "r": {
     "delete_cmd_postfix": ") ",
     "delete_cmd_prefix": "rm(",
     "library": "var_list.r",
     "varRefreshCmd": "cat(var_dic_list()) "
    }
   },
   "types_to_exclude": [
    "module",
    "function",
    "builtin_function_or_method",
    "instance",
    "_Feature"
   ],
   "window_display": false
  }
 },
 "nbformat": 4,
 "nbformat_minor": 2
}
