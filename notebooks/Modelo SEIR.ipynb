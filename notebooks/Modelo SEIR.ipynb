{
 "cells": [
  {
   "cell_type": "markdown",
   "metadata": {},
   "source": [
    "# Modelagem SEIR\n",
    "Neste notebook está implementado o modelo SEIR de Zhilan Feng. Que inclui quarentena, e hospitalizações\n",
    "\n",
    "\\begin{align}\n",
    "\\frac{dS}{dt}&=-\\beta S (I+(1-\\rho)H)\\\\\n",
    "\\frac{dE}{dt}&= \\beta S (I+(1-\\rho)H)-(\\chi+\\alpha)E\\\\\n",
    "\\frac{dQ}{dt}&=\\chi E -\\alpha Q\\\\\n",
    "\\frac{dI}{dt}&= \\alpha E - (\\phi+\\delta)I\\\\\n",
    "\\frac{dH}{dt}&= \\alpha Q +\\phi I -\\delta H\\\\\n",
    "\\frac{dR}{dt}&= \\delta I +\\delta H\n",
    "\\end{align}\n",
    "\n",
    "Denotando o tamanho total da epidemia por $Y_e(t)=E(t)+Q(t)+I(t)+H(t)$, podemos escrever:\n",
    "\n",
    "\\begin{align}\n",
    "\\nonumber \\frac{dY_e}{dt}&= \\frac{dE}{dt}+\\frac{dQ}{dt}+\\frac{dI}{dt}+\\frac{dH}{dt}\\\\\n",
    "\\label{ye}&=\\beta S (I(1-\\rho)H) -\\delta(I+H)\n",
    "\\end{align}\n"
   ]
  },
  {
   "cell_type": "code",
   "execution_count": 1,
   "metadata": {
    "ExecuteTime": {
     "end_time": "2020-04-10T11:01:55.350005Z",
     "start_time": "2020-04-10T11:01:54.569531Z"
    }
   },
   "outputs": [
    {
     "name": "stdout",
     "output_type": "stream",
     "text": [
      "Populating the interactive namespace from numpy and matplotlib\n"
     ]
    }
   ],
   "source": [
    "from scipy.integrate import odeint\n",
    "import pandas as pd\n",
    "from ipywidgets import interact, interactive, fixed, interact_manual\n",
    "import ipywidgets as widgets\n",
    "import warnings\n",
    "import humanizer_portugues as hp\n",
    "import seaborn as sns\n",
    "from datetime import timedelta\n",
    "warnings.filterwarnings(\"ignore\")\n",
    "%pylab inline"
   ]
  },
  {
   "cell_type": "code",
   "execution_count": 2,
   "metadata": {
    "ExecuteTime": {
     "end_time": "2020-04-08T21:26:29.492613Z",
     "start_time": "2020-04-08T21:26:29.486203Z"
    }
   },
   "outputs": [],
   "source": [
    "def seqihr(y,t,*params):\n",
    "    S,E,Q,I,H,R = y\n",
    "    chi,phi,beta,rho,delta,alpha = params\n",
    "    return[\n",
    "        -beta*S*(I+(1-rho)*H), #dS/dt\n",
    "        beta*S*(I+(1-rho)*H) - (chi+alpha)*E,#dE/dt\n",
    "        chi*E -alpha*Q,#dQ/dt\n",
    "        alpha*E - (phi+delta)*I,#dI/dt\n",
    "        alpha*Q + phi*I -delta*H,#dH/dt\n",
    "        delta*I + delta*H,#dR/dt\n",
    "    ]"
   ]
  },
  {
   "cell_type": "code",
   "execution_count": 31,
   "metadata": {
    "ExecuteTime": {
     "end_time": "2020-04-10T09:55:41.035746Z",
     "start_time": "2020-04-10T09:55:41.031831Z"
    }
   },
   "outputs": [],
   "source": [
    "chi=.05  # Taxa de quarentenação\n",
    "phi=.01 # Taxa de Hospitalização\n",
    "beta=.2 #taxa de Transmissão\n",
    "rho=.6 # Atenuação da transmissão quando hospitalizado\n",
    "delta=1/10 # Taxa de recuperação hospitalar\n",
    "alpha=1/3 # Taxa de incubaçao"
   ]
  },
  {
   "cell_type": "code",
   "execution_count": 32,
   "metadata": {
    "ExecuteTime": {
     "end_time": "2020-04-10T09:55:41.477194Z",
     "start_time": "2020-04-10T09:55:41.464205Z"
    }
   },
   "outputs": [],
   "source": [
    "inits = [0.9,.1,0,0,0,0]\n",
    "trange = arange(0,100,.1)\n",
    "res = odeint(seqihr,inits,trange,args=(chi,phi,beta,rho,delta,alpha))"
   ]
  },
  {
   "cell_type": "code",
   "execution_count": 33,
   "metadata": {
    "ExecuteTime": {
     "end_time": "2020-04-10T09:55:42.395545Z",
     "start_time": "2020-04-10T09:55:41.969067Z"
    },
    "scrolled": false
   },
   "outputs": [
    {
     "data": {
      "application/vnd.jupyter.widget-view+json": {
       "model_id": "895bc8fd05ce4ae9851a77e659234021",
       "version_major": 2,
       "version_minor": 0
      },
      "text/plain": [
       "interactive(children=(FloatSlider(value=0.05, description='chi', max=0.1, step=0.01), FloatSlider(value=0.01, …"
      ]
     },
     "metadata": {},
     "output_type": "display_data"
    }
   ],
   "source": [
    "\n",
    "@interact(chi=(0,.1, 0.01),phi=(0,.1,.005),beta=(0,.5,.05),rho=(0,1,.1),delta=(0,1,.05),alpha=(0,1,0.01))\n",
    "def plota_simulação(chi=0.05,phi=.01,beta=.2,rho=.6,delta=.1,alpha=.33):\n",
    "    res = odeint(seqihr,inits,trange,args=(chi,phi,beta,rho,delta,alpha))\n",
    "    fig, ax = subplots(1,1, figsize=(15,10))\n",
    "    ax.plot(trange,res[:,1:-1])\n",
    "    ax.set_ylabel('Fração da População')\n",
    "    ax.set_xlabel('Tempo (dias)')\n",
    "    ax.grid()\n",
    "    ax.legend(['Exposto','Quar','Inf','Hosp']);"
   ]
  },
  {
   "cell_type": "markdown",
   "metadata": {},
   "source": [
    "## Adicionando Assintomáticos\n",
    "![Diagrama de blocos](seiahr.jpg \"Modelo\")\n",
    "O modelo de Feng não é apropriado para representar a epidemia da COVID-19. Vamos Modificá-lo para incluir entre outras coisas, os assintomáticos. Para simplificar a notação vamos denotar por $\\lambda=\\beta(I\\color{red}{+A}+(1-\\rho)H)$, já incluindo os assintomáticos, $A$.\n",
    "\n",
    "\\begin{align}\n",
    "\\frac{dS}{dt}&=-\\lambda[\\color{red}{(1-\\chi)} S] \\\\\n",
    "\\frac{dE}{dt}&= \\lambda [\\color{red}{(1-\\chi)} S] -\\alpha E\\\\\n",
    "\\frac{dI}{dt}&= \\color{red}{(1-p)}\\alpha E - (\\phi+\\delta)I\\\\\n",
    "\\color{red}{\\frac{dA}{dt}}&= \\color{red}{p\\alpha E -\\delta A}\\\\\n",
    "\\frac{dH}{dt}&= \\phi I -\\delta H\\\\\n",
    "\\frac{dR}{dt}&= \\delta I +\\delta H \\color{red}{+ \\delta A}\n",
    "\\end{align}\n",
    "\n",
    "Neste novo modelo alteramos mais algumas coisinhas ressaltadas em vermelho acima. Em primeiro lugar, fizemos com que a quarentena seja aplicada aos suscetíveis, efetivamente removendo-os da cadeia de transmissão, para simplificar removemos o compartimento $Q$. Além disso, para alimentar a classe dos Assintomáticos, definimos $p$ como a fração de assintomáticos na população. $R_0\\approx$"
   ]
  },
  {
   "cell_type": "markdown",
   "metadata": {},
   "source": [
    "### Adicionando ou removendo a quarentena\n",
    "Para permitir que a quarentena seja acionada no modelo em uma data definida por um parâmetro $q$, precisamos expressá-la como uma função diferenciável que varie de zero a um rapidamente. Esta função é então multiplicada pelo parâmetro de quarentena $\\chi$.\n",
    "\\begin{equation}\n",
    "    \\chi^+(t)=\\chi\\frac{1+tanh(t-q)}{2}\n",
    "\\end{equation}\n",
    "\n",
    "Para remover a quarentena podemos usar a função com o sinal trocado na tangente hiperbólica.\n",
    "\\begin{equation}\n",
    "    \\chi^-(t)=chi\\frac{1-tanh(t-q)}{2}\n",
    "\\end{equation}\n",
    "Abaixo temos uma exemplificação grafica de $\\chi^+(t)$ e $\\chi^-(t)$"
   ]
  },
  {
   "cell_type": "code",
   "execution_count": 63,
   "metadata": {
    "ExecuteTime": {
     "end_time": "2020-04-10T10:32:32.359805Z",
     "start_time": "2020-04-10T10:32:32.008156Z"
    }
   },
   "outputs": [
    {
     "data": {
      "image/png": "[encoded data removed]",
      "text/plain": [
       "<Figure size 1080x576 with 2 Axes>"
      ]
     },
     "metadata": {
      "needs_background": "light"
     },
     "output_type": "display_data"
    }
   ],
   "source": [
    "t = arange(-3,10,.01)\n",
    "d=1\n",
    "q = 0.3 #Nivel de quarentena desejado\n",
    "addq = lambda t,d: (1+tanh(t-d))/2\n",
    "remq = lambda t,d: (1-tanh(t-d))/2\n",
    "f,(ax1,ax2)=subplots(1,2, figsize=(15,8))\n",
    "ax1.plot(t,q*addq(t,d), label=f\"liga a quarent. no dia {d}\")\n",
    "ax1.plot(t,q*remq(t,d), label=f\"desliga a quarent. no dia {d}\")\n",
    "ax2.plot(t,q*addq(t,d)*remq(t,d+5))\n",
    "ax1.vlines(d,0,q)\n",
    "ax2.vlines(d,0,q,'g')\n",
    "ax2.vlines(d+5,0,q, 'r')\n",
    "ax1.grid()\n",
    "ax2.grid()\n",
    "ax1.legend();"
   ]
  },
  {
   "cell_type": "code",
   "execution_count": 14,
   "metadata": {
    "ExecuteTime": {
     "end_time": "2020-04-10T11:09:00.343985Z",
     "start_time": "2020-04-10T11:09:00.326543Z"
    }
   },
   "outputs": [],
   "source": [
    "def seqiahr(y,t,*params):\n",
    "    S,E,I,A,H,R,C,M = y\n",
    "    chi,phi,beta,rho,delta,alpha,mu,p,q,r = params\n",
    "    lamb = beta*(I+A)\n",
    "    chi *= ((1+np.tanh(t-q))/2) * ((1 - np.tanh(t - (q+r))) / 2 )\n",
    "    return[\n",
    "        -lamb*((1-chi)*S), #dS/dt\n",
    "        lamb*((1-chi)*S) - alpha*E,#dE/dt\n",
    "        (1-p)*alpha*E - delta*I,#dI/dt\n",
    "        p*alpha*E - delta*A,\n",
    "        phi*delta*I -(rho+mu)*H,#dH/dt\n",
    "        (1-phi)*delta*I + rho*H+delta*A ,#dR/dt\n",
    "        phi*delta*I,#(1-p)*alpha*E+ p*alpha*E # Casos acumulados\n",
    "        mu*H  #Mortes acumuladas\n",
    "    ]"
   ]
  },
  {
   "cell_type": "code",
   "execution_count": 16,
   "metadata": {
    "ExecuteTime": {
     "end_time": "2020-04-10T12:08:54.877126Z",
     "start_time": "2020-04-10T12:08:54.341982Z"
    },
    "scrolled": false
   },
   "outputs": [
    {
     "data": {
      "application/vnd.jupyter.widget-view+json": {
       "model_id": "3d8890c97a924e7ba4c634d5c3e72612",
       "version_major": 2,
       "version_minor": 0
      },
      "text/plain": [
       "interactive(children=(FloatSlider(value=0.7, description='χ', max=1.0, step=0.05), FloatSlider(value=0.01, des…"
      ]
     },
     "metadata": {},
     "output_type": "display_data"
    }
   ],
   "source": [
    "trange = arange(0, 365, 1)\n",
    "inits = [0.99, 0, 1.0277e-6, 0.0, 0, 0, 0, 0]\n",
    "N = 97.3e6\n",
    "fat = 0.035  # case fatality rate\n",
    "# sumario = open('cenarios.csv','w')\n",
    "# sumario.write('R0,Quarentena,tamanho_total,hosp_total,hosp_pico,morte_total\\n')\n",
    "\n",
    "\n",
    "\n",
    "def r0(chi, phi, beta, rho, delta, p, S=1):\n",
    "    \"R0 for seqiahr2\"\n",
    "    return -(S*beta*chi - S*beta)/delta\n",
    "\n",
    "\n",
    "@interact(χ=(0, 1, 0.05),\n",
    "          φ=(0, .5, .01),\n",
    "          β=(0, 1, .02),\n",
    "          ρ=(0, 1, .1),\n",
    "          δ=(0, 1, .05),\n",
    "          α=(0, 10, 0.01),\n",
    "          mu=(0,1,.01),\n",
    "          p=(0, 1, .05),\n",
    "          q=(0, 120, 10),\n",
    "          r=(0,100,10))\n",
    "def plota_simulação(χ=0.7, φ=.01, β=.5, ρ=0.05, δ=.1, α=.33, mu=0.03, p=.75, q=30, r=10):\n",
    "    res = odeint(seqiahr, inits, trange, args=(χ, φ, β, ρ, δ, α, mu, p, q,r))\n",
    "    rzero = r0(χ, φ, β, ρ, δ, p)\n",
    "#     et = 1 / rzero\n",
    "#     idx = np.argwhere(np.abs(res[:, 0] - et) == min(np.abs(res[:, 0] -\n",
    "#                                                            et)))[0, 0]\n",
    "    fig, ax = subplots(1, 1, figsize=(15, 10))\n",
    "    ax.plot(trange, res[:, 1])#E\n",
    "#     ax.plot(trange, res[:, 2:4])\n",
    "    ax.plot(trange, res[:, 4]) #H\n",
    "    ax.plot(trange, res[:,-1]) #M\n",
    "    ax.set_ylim([0, 0.02])\n",
    "    Ye = res[:, 1:4].sum(axis=1)\n",
    "    Imax = (1 - res[-1, 0]) * N  # N-S(inf)\n",
    "    Hosp_p = res[:, 4].max() * N  # pico de Hospitalizações\n",
    "    Hosp_tot = (res[-1, -2]) * N\n",
    "    casos = (res[:, 2] + res[:, 4])  # Casos notificados H+I\n",
    "    casosT = Hosp_tot + ((1 - p) * α * res[:, 1]).sum() * N  # N*sum(p*α*E)\n",
    "    M = res[-1,-1]*N\n",
    "    #     secax = ax.twinx()\n",
    "    #     secax.plot(trange, Ye,'k:')\n",
    "    #     secax.set_ylabel('Total prevalence fraction')\n",
    "    ax.text(0,\n",
    "            0.005,\n",
    "            f\"$R_0~{rzero:.1f}$\\n$p={p}$\\n$\\\\rho={ρ}$\\n$\\\\chi={χ*100}$%\",\n",
    "            fontsize=16)\n",
    "    ax.text(\n",
    "        110,\n",
    "        .01,\n",
    "        f\"Tamanho total: {hp.intword(Imax)} infectados\\nHosp. pico: {hp.intword(Hosp_p)}\\nHosp. totais: {hp.intword(Hosp_tot)}\\nMortes: {hp.intword(M)}\",\n",
    "        fontsize=16)\n",
    "#     ax.vlines(trange[idx], 0, 0.02,'b')  #res[:,1:-1].max())\n",
    "    ax.vlines(q, 0, .02)\n",
    "    ax.vlines(q+r, 0, .02,'r')\n",
    "    ax.set_ylabel('Fração da População')\n",
    "    ax.set_xlabel('Tempo (dias)')\n",
    "    ax.grid()\n",
    "    #         sumario.write(f'{rzero},{χ*100},{Imax},{Hosp_tot},{Hosp_p},{M}\\n')\n",
    "#     ax.legend(['Exposto', 'Inf', 'Assintomático', 'Hosp', 'Mortes'])\n",
    "    ax.legend(['Exposto', 'Hospitalizado', 'Mortes'])\n",
    "#     plt.savefig(f\"\", dpi=300)"
   ]
  },
  {
   "cell_type": "code",
   "execution_count": 29,
   "metadata": {
    "ExecuteTime": {
     "end_time": "2020-04-05T17:38:42.537387Z",
     "start_time": "2020-04-05T17:38:42.530799Z"
    }
   },
   "outputs": [],
   "source": [
    "# sumario.close()\n",
    "# suma = pd.read_csv('cenarios.csv')\n",
    "# suma.drop_duplicates(inplace=True)\n",
    "# suma"
   ]
  },
  {
   "cell_type": "code",
   "execution_count": 36,
   "metadata": {
    "ExecuteTime": {
     "end_time": "2020-04-05T17:47:33.886587Z",
     "start_time": "2020-04-05T17:47:31.757008Z"
    },
    "scrolled": false
   },
   "outputs": [
    {
     "data": {
      "image/png": "[encoded data removed]",
      "text/plain": [
       "<Figure size 1080x720 with 1 Axes>"
      ]
     },
     "metadata": {
      "needs_background": "light"
     },
     "output_type": "display_data"
    }
   ],
   "source": [
    "def save_data():\n",
    "    fig,ax = subplots(1,1, figsize=(15,10), constrained_layout=True)\n",
    "    χ=0.05;φ=.01;β=.25;ρ=.6;δ=.1;α=10; p=.75; q=0\n",
    "    i=1\n",
    "    dff = pd.DataFrame(data={'Sem controle':range(365),'Com controle':range(365)})\n",
    "    for q,R0,c in [(0,3.6,'Sem controle'),(10,1.7,'Com controle')]:\n",
    "        res = odeint(seqiahr2,inits,trange,args=(q/100,φ,R0/10,ρ,δ,α,p,q))\n",
    "        df = pd.DataFrame(data=res*N, columns=['S','E','I','A','H','R','C'],index=trange)\n",
    "        ax = df[['H']].plot(ax=ax, grid=True)\n",
    "        dff[c] =df.H\n",
    "    plt.legend(['Sem Controles','Com controles'])\n",
    "    plt.savefig(f'export/achatando a curva.png', dpi=300)\n",
    "    dff.to_csv(f'export/achatando a curva.csv')\n",
    "\n",
    "save_data()"
   ]
  },
  {
   "cell_type": "markdown",
   "metadata": {},
   "source": [
    "## Carregando os dados do Brasil"
   ]
  },
  {
   "cell_type": "code",
   "execution_count": 17,
   "metadata": {
    "ExecuteTime": {
     "end_time": "2020-04-10T12:22:51.507700Z",
     "start_time": "2020-04-10T12:22:46.752648Z"
    }
   },
   "outputs": [],
   "source": [
    "# Pegando os casos do Brasil.io\n",
    "cases = pd.read_csv('https://brasil.io/dataset/covid19/caso?format=csv')\n",
    "cases.date = pd.to_datetime(cases.date)"
   ]
  },
  {
   "cell_type": "code",
   "execution_count": 18,
   "metadata": {
    "ExecuteTime": {
     "end_time": "2020-04-10T12:22:51.583376Z",
     "start_time": "2020-04-10T12:22:51.563873Z"
    }
   },
   "outputs": [],
   "source": [
    "df_states = cases[cases.place_type!='state'].groupby(['date','state']).sum()\n",
    "df_states.reset_index(inplace=True)\n",
    "df_states.set_index('date', inplace=True)"
   ]
  },
  {
   "cell_type": "code",
   "execution_count": 20,
   "metadata": {
    "ExecuteTime": {
     "end_time": "2020-04-10T12:23:05.567341Z",
     "start_time": "2020-04-10T12:23:04.587310Z"
    }
   },
   "outputs": [
    {
     "data": {
      "image/png": "[encoded data removed]",
      "text/plain": [
       "<Figure size 1080x576 with 1 Axes>"
      ]
     },
     "metadata": {
      "needs_background": "light"
     },
     "output_type": "display_data"
    }
   ],
   "source": [
    "# df_states.set_index('date', inplace=True)\n",
    "fig,ax = subplots(1,1,figsize=(15,8))\n",
    "for uf in ['SP','RJ','MG','CE','RS']:\n",
    "    df_states[df_states.state==uf].confirmed.plot(style='-o', label=uf)\n",
    "\n",
    "ax.legend()\n",
    "plt.savefig('Casos_confirmados_estados.png',dpi=200)"
   ]
  },
  {
   "cell_type": "code",
   "execution_count": 24,
   "metadata": {
    "ExecuteTime": {
     "end_time": "2020-04-10T12:27:07.747975Z",
     "start_time": "2020-04-10T12:27:07.705787Z"
    }
   },
   "outputs": [
    {
     "data": {
      "text/html": [
       "<div>\n",
       "<style scoped>\n",
       "    .dataframe tbody tr th:only-of-type {\n",
       "        vertical-align: middle;\n",
       "    }\n",
       "\n",
       "    .dataframe tbody tr th {\n",
       "        vertical-align: top;\n",
       "    }\n",
       "\n",
       "    .dataframe thead th {\n",
       "        text-align: right;\n",
       "    }\n",
       "</style>\n",
       "<table border=\"1\" class=\"dataframe\">\n",
       "  <thead>\n",
       "    <tr style=\"text-align: right;\">\n",
       "      <th></th>\n",
       "      <th></th>\n",
       "      <th>casosNovos</th>\n",
       "      <th>casosAcumulados</th>\n",
       "      <th>obitosNovos</th>\n",
       "      <th>obitosAcumulados</th>\n",
       "    </tr>\n",
       "    <tr>\n",
       "      <th>data</th>\n",
       "      <th>sigla</th>\n",
       "      <th></th>\n",
       "      <th></th>\n",
       "      <th></th>\n",
       "      <th></th>\n",
       "    </tr>\n",
       "  </thead>\n",
       "  <tbody>\n",
       "    <tr>\n",
       "      <th rowspan=\"5\" valign=\"top\">2020-01-30</th>\n",
       "      <th>AC</th>\n",
       "      <td>0</td>\n",
       "      <td>0</td>\n",
       "      <td>0</td>\n",
       "      <td>0</td>\n",
       "    </tr>\n",
       "    <tr>\n",
       "      <th>AL</th>\n",
       "      <td>0</td>\n",
       "      <td>0</td>\n",
       "      <td>0</td>\n",
       "      <td>0</td>\n",
       "    </tr>\n",
       "    <tr>\n",
       "      <th>AM</th>\n",
       "      <td>0</td>\n",
       "      <td>0</td>\n",
       "      <td>0</td>\n",
       "      <td>0</td>\n",
       "    </tr>\n",
       "    <tr>\n",
       "      <th>AP</th>\n",
       "      <td>0</td>\n",
       "      <td>0</td>\n",
       "      <td>0</td>\n",
       "      <td>0</td>\n",
       "    </tr>\n",
       "    <tr>\n",
       "      <th>BA</th>\n",
       "      <td>0</td>\n",
       "      <td>0</td>\n",
       "      <td>0</td>\n",
       "      <td>0</td>\n",
       "    </tr>\n",
       "    <tr>\n",
       "      <th>...</th>\n",
       "      <th>...</th>\n",
       "      <td>...</td>\n",
       "      <td>...</td>\n",
       "      <td>...</td>\n",
       "      <td>...</td>\n",
       "    </tr>\n",
       "    <tr>\n",
       "      <th rowspan=\"5\" valign=\"top\">2020-04-09</th>\n",
       "      <th>RS</th>\n",
       "      <td>63</td>\n",
       "      <td>618</td>\n",
       "      <td>3</td>\n",
       "      <td>12</td>\n",
       "    </tr>\n",
       "    <tr>\n",
       "      <th>SC</th>\n",
       "      <td>44</td>\n",
       "      <td>501</td>\n",
       "      <td>2</td>\n",
       "      <td>17</td>\n",
       "    </tr>\n",
       "    <tr>\n",
       "      <th>SE</th>\n",
       "      <td>3</td>\n",
       "      <td>39</td>\n",
       "      <td>0</td>\n",
       "      <td>4</td>\n",
       "    </tr>\n",
       "    <tr>\n",
       "      <th>SP</th>\n",
       "      <td>772</td>\n",
       "      <td>7480</td>\n",
       "      <td>68</td>\n",
       "      <td>496</td>\n",
       "    </tr>\n",
       "    <tr>\n",
       "      <th>TO</th>\n",
       "      <td>0</td>\n",
       "      <td>23</td>\n",
       "      <td>0</td>\n",
       "      <td>0</td>\n",
       "    </tr>\n",
       "  </tbody>\n",
       "</table>\n",
       "<p>1917 rows × 4 columns</p>\n",
       "</div>"
      ],
      "text/plain": [
       "                  casosNovos  casosAcumulados  obitosNovos  obitosAcumulados\n",
       "data       sigla                                                            \n",
       "2020-01-30 AC              0                0            0                 0\n",
       "           AL              0                0            0                 0\n",
       "           AM              0                0            0                 0\n",
       "           AP              0                0            0                 0\n",
       "           BA              0                0            0                 0\n",
       "...                      ...              ...          ...               ...\n",
       "2020-04-09 RS             63              618            3                12\n",
       "           SC             44              501            2                17\n",
       "           SE              3               39            0                 4\n",
       "           SP            772             7480           68               496\n",
       "           TO              0               23            0                 0\n",
       "\n",
       "[1917 rows x 4 columns]"
      ]
     },
     "execution_count": 24,
     "metadata": {},
     "output_type": "execute_result"
    }
   ],
   "source": [
    "# Pegando os dados do Ministério\n",
    "casos = pd.read_csv('COVID19_20200409.csv',sep=',')\n",
    "casos.data = pd.to_datetime(casos.data, dayfirst=True)\n",
    "casos_estados = casos.groupby(['data','sigla']).sum()\n",
    "casos_estados"
   ]
  },
  {
   "cell_type": "code",
   "execution_count": 25,
   "metadata": {
    "ExecuteTime": {
     "end_time": "2020-04-10T12:27:10.904746Z",
     "start_time": "2020-04-10T12:27:10.896254Z"
    }
   },
   "outputs": [
    {
     "data": {
      "text/plain": [
       "Index(['regiao', 'sigla', 'data', 'casosNovos', 'casosAcumulados',\n",
       "       'obitosNovos', 'obitosAcumulados'],\n",
       "      dtype='object')"
      ]
     },
     "execution_count": 25,
     "metadata": {},
     "output_type": "execute_result"
    }
   ],
   "source": [
    "casos.columns"
   ]
  },
  {
   "cell_type": "code",
   "execution_count": 26,
   "metadata": {
    "ExecuteTime": {
     "end_time": "2020-04-10T12:27:12.469054Z",
     "start_time": "2020-04-10T12:27:11.691048Z"
    }
   },
   "outputs": [
    {
     "ename": "FileNotFoundError",
     "evalue": "[Errno 2] No such file or directory: 'export/Casos_Acumulados_estados.png'",
     "output_type": "error",
     "traceback": [
      "\u001b[0;31m---------------------------------------------------------------------------\u001b[0m",
      "\u001b[0;31mFileNotFoundError\u001b[0m                         Traceback (most recent call last)",
      "\u001b[0;32m<ipython-input-26-109cac1408bc>\u001b[0m in \u001b[0;36m<module>\u001b[0;34m\u001b[0m\n\u001b[1;32m      6\u001b[0m \u001b[0;34m\u001b[0m\u001b[0m\n\u001b[1;32m      7\u001b[0m \u001b[0max\u001b[0m\u001b[0;34m.\u001b[0m\u001b[0mlegend\u001b[0m\u001b[0;34m(\u001b[0m\u001b[0;34m)\u001b[0m\u001b[0;34m\u001b[0m\u001b[0;34m\u001b[0m\u001b[0m\n\u001b[0;32m----> 8\u001b[0;31m \u001b[0mplt\u001b[0m\u001b[0;34m.\u001b[0m\u001b[0msavefig\u001b[0m\u001b[0;34m(\u001b[0m\u001b[0;34m'export/Casos_Acumulados_estados.png'\u001b[0m\u001b[0;34m,\u001b[0m\u001b[0mdpi\u001b[0m\u001b[0;34m=\u001b[0m\u001b[0;36m200\u001b[0m\u001b[0;34m)\u001b[0m\u001b[0;34m\u001b[0m\u001b[0;34m\u001b[0m\u001b[0m\n\u001b[0m",
      "\u001b[0;32m/usr/local/lib/python3.7/dist-packages/matplotlib/pyplot.py\u001b[0m in \u001b[0;36msavefig\u001b[0;34m(*args, **kwargs)\u001b[0m\n\u001b[1;32m    721\u001b[0m \u001b[0;32mdef\u001b[0m \u001b[0msavefig\u001b[0m\u001b[0;34m(\u001b[0m\u001b[0;34m*\u001b[0m\u001b[0margs\u001b[0m\u001b[0;34m,\u001b[0m \u001b[0;34m**\u001b[0m\u001b[0mkwargs\u001b[0m\u001b[0;34m)\u001b[0m\u001b[0;34m:\u001b[0m\u001b[0;34m\u001b[0m\u001b[0;34m\u001b[0m\u001b[0m\n\u001b[1;32m    722\u001b[0m     \u001b[0mfig\u001b[0m \u001b[0;34m=\u001b[0m \u001b[0mgcf\u001b[0m\u001b[0;34m(\u001b[0m\u001b[0;34m)\u001b[0m\u001b[0;34m\u001b[0m\u001b[0;34m\u001b[0m\u001b[0m\n\u001b[0;32m--> 723\u001b[0;31m     \u001b[0mres\u001b[0m \u001b[0;34m=\u001b[0m \u001b[0mfig\u001b[0m\u001b[0;34m.\u001b[0m\u001b[0msavefig\u001b[0m\u001b[0;34m(\u001b[0m\u001b[0;34m*\u001b[0m\u001b[0margs\u001b[0m\u001b[0;34m,\u001b[0m \u001b[0;34m**\u001b[0m\u001b[0mkwargs\u001b[0m\u001b[0;34m)\u001b[0m\u001b[0;34m\u001b[0m\u001b[0;34m\u001b[0m\u001b[0m\n\u001b[0m\u001b[1;32m    724\u001b[0m     \u001b[0mfig\u001b[0m\u001b[0;34m.\u001b[0m\u001b[0mcanvas\u001b[0m\u001b[0;34m.\u001b[0m\u001b[0mdraw_idle\u001b[0m\u001b[0;34m(\u001b[0m\u001b[0;34m)\u001b[0m   \u001b[0;31m# need this if 'transparent=True' to reset colors\u001b[0m\u001b[0;34m\u001b[0m\u001b[0;34m\u001b[0m\u001b[0m\n\u001b[1;32m    725\u001b[0m     \u001b[0;32mreturn\u001b[0m \u001b[0mres\u001b[0m\u001b[0;34m\u001b[0m\u001b[0;34m\u001b[0m\u001b[0m\n",
      "\u001b[0;32m/usr/local/lib/python3.7/dist-packages/matplotlib/figure.py\u001b[0m in \u001b[0;36msavefig\u001b[0;34m(self, fname, transparent, **kwargs)\u001b[0m\n\u001b[1;32m   2201\u001b[0m             \u001b[0mself\u001b[0m\u001b[0;34m.\u001b[0m\u001b[0mpatch\u001b[0m\u001b[0;34m.\u001b[0m\u001b[0mset_visible\u001b[0m\u001b[0;34m(\u001b[0m\u001b[0mframeon\u001b[0m\u001b[0;34m)\u001b[0m\u001b[0;34m\u001b[0m\u001b[0;34m\u001b[0m\u001b[0m\n\u001b[1;32m   2202\u001b[0m \u001b[0;34m\u001b[0m\u001b[0m\n\u001b[0;32m-> 2203\u001b[0;31m         \u001b[0mself\u001b[0m\u001b[0;34m.\u001b[0m\u001b[0mcanvas\u001b[0m\u001b[0;34m.\u001b[0m\u001b[0mprint_figure\u001b[0m\u001b[0;34m(\u001b[0m\u001b[0mfname\u001b[0m\u001b[0;34m,\u001b[0m \u001b[0;34m**\u001b[0m\u001b[0mkwargs\u001b[0m\u001b[0;34m)\u001b[0m\u001b[0;34m\u001b[0m\u001b[0;34m\u001b[0m\u001b[0m\n\u001b[0m\u001b[1;32m   2204\u001b[0m \u001b[0;34m\u001b[0m\u001b[0m\n\u001b[1;32m   2205\u001b[0m         \u001b[0;32mif\u001b[0m \u001b[0mframeon\u001b[0m\u001b[0;34m:\u001b[0m\u001b[0;34m\u001b[0m\u001b[0;34m\u001b[0m\u001b[0m\n",
      "\u001b[0;32m/usr/local/lib/python3.7/dist-packages/matplotlib/backend_bases.py\u001b[0m in \u001b[0;36mprint_figure\u001b[0;34m(self, filename, dpi, facecolor, edgecolor, orientation, format, bbox_inches, **kwargs)\u001b[0m\n\u001b[1;32m   2103\u001b[0m                     \u001b[0morientation\u001b[0m\u001b[0;34m=\u001b[0m\u001b[0morientation\u001b[0m\u001b[0;34m,\u001b[0m\u001b[0;34m\u001b[0m\u001b[0;34m\u001b[0m\u001b[0m\n\u001b[1;32m   2104\u001b[0m                     \u001b[0mbbox_inches_restore\u001b[0m\u001b[0;34m=\u001b[0m\u001b[0m_bbox_inches_restore\u001b[0m\u001b[0;34m,\u001b[0m\u001b[0;34m\u001b[0m\u001b[0;34m\u001b[0m\u001b[0m\n\u001b[0;32m-> 2105\u001b[0;31m                     **kwargs)\n\u001b[0m\u001b[1;32m   2106\u001b[0m             \u001b[0;32mfinally\u001b[0m\u001b[0;34m:\u001b[0m\u001b[0;34m\u001b[0m\u001b[0;34m\u001b[0m\u001b[0m\n\u001b[1;32m   2107\u001b[0m                 \u001b[0;32mif\u001b[0m \u001b[0mbbox_inches\u001b[0m \u001b[0;32mand\u001b[0m \u001b[0mrestore_bbox\u001b[0m\u001b[0;34m:\u001b[0m\u001b[0;34m\u001b[0m\u001b[0;34m\u001b[0m\u001b[0m\n",
      "\u001b[0;32m/usr/local/lib/python3.7/dist-packages/matplotlib/backends/backend_agg.py\u001b[0m in \u001b[0;36mprint_png\u001b[0;34m(self, filename_or_obj, metadata, pil_kwargs, *args, **kwargs)\u001b[0m\n\u001b[1;32m    533\u001b[0m         \u001b[0;32melse\u001b[0m\u001b[0;34m:\u001b[0m\u001b[0;34m\u001b[0m\u001b[0;34m\u001b[0m\u001b[0m\n\u001b[1;32m    534\u001b[0m             \u001b[0mrenderer\u001b[0m \u001b[0;34m=\u001b[0m \u001b[0mself\u001b[0m\u001b[0;34m.\u001b[0m\u001b[0mget_renderer\u001b[0m\u001b[0;34m(\u001b[0m\u001b[0;34m)\u001b[0m\u001b[0;34m\u001b[0m\u001b[0;34m\u001b[0m\u001b[0m\n\u001b[0;32m--> 535\u001b[0;31m             \u001b[0;32mwith\u001b[0m \u001b[0mcbook\u001b[0m\u001b[0;34m.\u001b[0m\u001b[0mopen_file_cm\u001b[0m\u001b[0;34m(\u001b[0m\u001b[0mfilename_or_obj\u001b[0m\u001b[0;34m,\u001b[0m \u001b[0;34m\"wb\"\u001b[0m\u001b[0;34m)\u001b[0m \u001b[0;32mas\u001b[0m \u001b[0mfh\u001b[0m\u001b[0;34m:\u001b[0m\u001b[0;34m\u001b[0m\u001b[0;34m\u001b[0m\u001b[0m\n\u001b[0m\u001b[1;32m    536\u001b[0m                 _png.write_png(renderer._renderer, fh, self.figure.dpi,\n\u001b[1;32m    537\u001b[0m                                metadata={**default_metadata, **metadata})\n",
      "\u001b[0;32m/usr/lib/python3.7/contextlib.py\u001b[0m in \u001b[0;36m__enter__\u001b[0;34m(self)\u001b[0m\n\u001b[1;32m    110\u001b[0m         \u001b[0;32mdel\u001b[0m \u001b[0mself\u001b[0m\u001b[0;34m.\u001b[0m\u001b[0margs\u001b[0m\u001b[0;34m,\u001b[0m \u001b[0mself\u001b[0m\u001b[0;34m.\u001b[0m\u001b[0mkwds\u001b[0m\u001b[0;34m,\u001b[0m \u001b[0mself\u001b[0m\u001b[0;34m.\u001b[0m\u001b[0mfunc\u001b[0m\u001b[0;34m\u001b[0m\u001b[0;34m\u001b[0m\u001b[0m\n\u001b[1;32m    111\u001b[0m         \u001b[0;32mtry\u001b[0m\u001b[0;34m:\u001b[0m\u001b[0;34m\u001b[0m\u001b[0;34m\u001b[0m\u001b[0m\n\u001b[0;32m--> 112\u001b[0;31m             \u001b[0;32mreturn\u001b[0m \u001b[0mnext\u001b[0m\u001b[0;34m(\u001b[0m\u001b[0mself\u001b[0m\u001b[0;34m.\u001b[0m\u001b[0mgen\u001b[0m\u001b[0;34m)\u001b[0m\u001b[0;34m\u001b[0m\u001b[0;34m\u001b[0m\u001b[0m\n\u001b[0m\u001b[1;32m    113\u001b[0m         \u001b[0;32mexcept\u001b[0m \u001b[0mStopIteration\u001b[0m\u001b[0;34m:\u001b[0m\u001b[0;34m\u001b[0m\u001b[0;34m\u001b[0m\u001b[0m\n\u001b[1;32m    114\u001b[0m             \u001b[0;32mraise\u001b[0m \u001b[0mRuntimeError\u001b[0m\u001b[0;34m(\u001b[0m\u001b[0;34m\"generator didn't yield\"\u001b[0m\u001b[0;34m)\u001b[0m \u001b[0;32mfrom\u001b[0m \u001b[0;32mNone\u001b[0m\u001b[0;34m\u001b[0m\u001b[0;34m\u001b[0m\u001b[0m\n",
      "\u001b[0;32m/usr/local/lib/python3.7/dist-packages/matplotlib/cbook/__init__.py\u001b[0m in \u001b[0;36mopen_file_cm\u001b[0;34m(path_or_file, mode, encoding)\u001b[0m\n\u001b[1;32m    416\u001b[0m \u001b[0;32mdef\u001b[0m \u001b[0mopen_file_cm\u001b[0m\u001b[0;34m(\u001b[0m\u001b[0mpath_or_file\u001b[0m\u001b[0;34m,\u001b[0m \u001b[0mmode\u001b[0m\u001b[0;34m=\u001b[0m\u001b[0;34m\"r\"\u001b[0m\u001b[0;34m,\u001b[0m \u001b[0mencoding\u001b[0m\u001b[0;34m=\u001b[0m\u001b[0;32mNone\u001b[0m\u001b[0;34m)\u001b[0m\u001b[0;34m:\u001b[0m\u001b[0;34m\u001b[0m\u001b[0;34m\u001b[0m\u001b[0m\n\u001b[1;32m    417\u001b[0m     \u001b[0;34mr\"\"\"Pass through file objects and context-manage `.PathLike`\\s.\"\"\"\u001b[0m\u001b[0;34m\u001b[0m\u001b[0;34m\u001b[0m\u001b[0m\n\u001b[0;32m--> 418\u001b[0;31m     \u001b[0mfh\u001b[0m\u001b[0;34m,\u001b[0m \u001b[0mopened\u001b[0m \u001b[0;34m=\u001b[0m \u001b[0mto_filehandle\u001b[0m\u001b[0;34m(\u001b[0m\u001b[0mpath_or_file\u001b[0m\u001b[0;34m,\u001b[0m \u001b[0mmode\u001b[0m\u001b[0;34m,\u001b[0m \u001b[0;32mTrue\u001b[0m\u001b[0;34m,\u001b[0m \u001b[0mencoding\u001b[0m\u001b[0;34m)\u001b[0m\u001b[0;34m\u001b[0m\u001b[0;34m\u001b[0m\u001b[0m\n\u001b[0m\u001b[1;32m    419\u001b[0m     \u001b[0;32mif\u001b[0m \u001b[0mopened\u001b[0m\u001b[0;34m:\u001b[0m\u001b[0;34m\u001b[0m\u001b[0;34m\u001b[0m\u001b[0m\n\u001b[1;32m    420\u001b[0m         \u001b[0;32mwith\u001b[0m \u001b[0mfh\u001b[0m\u001b[0;34m:\u001b[0m\u001b[0;34m\u001b[0m\u001b[0;34m\u001b[0m\u001b[0m\n",
      "\u001b[0;32m/usr/local/lib/python3.7/dist-packages/matplotlib/cbook/__init__.py\u001b[0m in \u001b[0;36mto_filehandle\u001b[0;34m(fname, flag, return_opened, encoding)\u001b[0m\n\u001b[1;32m    401\u001b[0m             \u001b[0mfh\u001b[0m \u001b[0;34m=\u001b[0m \u001b[0mbz2\u001b[0m\u001b[0;34m.\u001b[0m\u001b[0mBZ2File\u001b[0m\u001b[0;34m(\u001b[0m\u001b[0mfname\u001b[0m\u001b[0;34m,\u001b[0m \u001b[0mflag\u001b[0m\u001b[0;34m)\u001b[0m\u001b[0;34m\u001b[0m\u001b[0;34m\u001b[0m\u001b[0m\n\u001b[1;32m    402\u001b[0m         \u001b[0;32melse\u001b[0m\u001b[0;34m:\u001b[0m\u001b[0;34m\u001b[0m\u001b[0;34m\u001b[0m\u001b[0m\n\u001b[0;32m--> 403\u001b[0;31m             \u001b[0mfh\u001b[0m \u001b[0;34m=\u001b[0m \u001b[0mopen\u001b[0m\u001b[0;34m(\u001b[0m\u001b[0mfname\u001b[0m\u001b[0;34m,\u001b[0m \u001b[0mflag\u001b[0m\u001b[0;34m,\u001b[0m \u001b[0mencoding\u001b[0m\u001b[0;34m=\u001b[0m\u001b[0mencoding\u001b[0m\u001b[0;34m)\u001b[0m\u001b[0;34m\u001b[0m\u001b[0;34m\u001b[0m\u001b[0m\n\u001b[0m\u001b[1;32m    404\u001b[0m         \u001b[0mopened\u001b[0m \u001b[0;34m=\u001b[0m \u001b[0;32mTrue\u001b[0m\u001b[0;34m\u001b[0m\u001b[0;34m\u001b[0m\u001b[0m\n\u001b[1;32m    405\u001b[0m     \u001b[0;32melif\u001b[0m \u001b[0mhasattr\u001b[0m\u001b[0;34m(\u001b[0m\u001b[0mfname\u001b[0m\u001b[0;34m,\u001b[0m \u001b[0;34m'seek'\u001b[0m\u001b[0;34m)\u001b[0m\u001b[0;34m:\u001b[0m\u001b[0;34m\u001b[0m\u001b[0;34m\u001b[0m\u001b[0m\n",
      "\u001b[0;31mFileNotFoundError\u001b[0m: [Errno 2] No such file or directory: 'export/Casos_Acumulados_estados.png'"
     ]
    },
    {
     "data": {
      "image/png": "[encoded data removed]",
      "text/plain": [
       "<Figure size 1080x576 with 1 Axes>"
      ]
     },
     "metadata": {
      "needs_background": "light"
     },
     "output_type": "display_data"
    }
   ],
   "source": [
    "fig,ax = subplots(1,1,figsize=(15,8))\n",
    "casos_estados.reset_index(inplace=True)\n",
    "casos_estados.set_index('data', inplace=True)\n",
    "for uf in ['SP','RJ','MG','CE','RS', 'BA']:\n",
    "    casos_estados[casos_estados.sigla==uf].casosAcumulados.plot(style='-o', label=uf)\n",
    "\n",
    "ax.legend()\n",
    "plt.savefig('export/Casos_Acumulados_estados.png',dpi=200)"
   ]
  },
  {
   "cell_type": "code",
   "execution_count": 38,
   "metadata": {
    "ExecuteTime": {
     "end_time": "2020-04-10T12:31:20.981508Z",
     "start_time": "2020-04-10T12:31:20.714969Z"
    }
   },
   "outputs": [
    {
     "data": {
      "image/png": "[encoded data removed]",
      "text/plain": [
       "<Figure size 432x288 with 1 Axes>"
      ]
     },
     "metadata": {
      "needs_background": "light"
     },
     "output_type": "display_data"
    }
   ],
   "source": [
    "trange = arange(0,1095,1)\n",
    "χ=0.0;φ=.1;β=.5;ρ=.6;δ=.1;α=.53; p=.75; q=-2; mu=0.02; r=1000\n",
    "inits = [0.99,0,1.0277e-8, 0.0,0,0,0,0]\n",
    "res = odeint(seqiahr,inits,trange,args=(χ,φ,β,ρ,δ,α,mu,p,q,r))\n",
    "# Com controle\n",
    "χ=0.1;β=.17\n",
    "res_c = odeint(seqiahr,inits,trange,args=(χ,φ,β,ρ,δ,α,mu,p,q, r))\n",
    "plt.plot(trange,res[:,-1],label='no control');\n",
    "plt.plot(trange,res_c[:,-1],label='with control');\n",
    "plt.legend();"
   ]
  },
  {
   "cell_type": "code",
   "execution_count": 32,
   "metadata": {
    "ExecuteTime": {
     "end_time": "2020-04-10T12:30:09.388913Z",
     "start_time": "2020-04-10T12:30:09.368767Z"
    }
   },
   "outputs": [
    {
     "data": {
      "text/html": [
       "<div>\n",
       "<style scoped>\n",
       "    .dataframe tbody tr th:only-of-type {\n",
       "        vertical-align: middle;\n",
       "    }\n",
       "\n",
       "    .dataframe tbody tr th {\n",
       "        vertical-align: top;\n",
       "    }\n",
       "\n",
       "    .dataframe thead th {\n",
       "        text-align: right;\n",
       "    }\n",
       "</style>\n",
       "<table border=\"1\" class=\"dataframe\">\n",
       "  <thead>\n",
       "    <tr style=\"text-align: right;\">\n",
       "      <th></th>\n",
       "      <th>casosNovos</th>\n",
       "      <th>casosAcumulados</th>\n",
       "      <th>obitosNovos</th>\n",
       "      <th>obitosAcumulados</th>\n",
       "    </tr>\n",
       "    <tr>\n",
       "      <th>data</th>\n",
       "      <th></th>\n",
       "      <th></th>\n",
       "      <th></th>\n",
       "      <th></th>\n",
       "    </tr>\n",
       "  </thead>\n",
       "  <tbody>\n",
       "    <tr>\n",
       "      <th>2020-01-30</th>\n",
       "      <td>0</td>\n",
       "      <td>0</td>\n",
       "      <td>0</td>\n",
       "      <td>0</td>\n",
       "    </tr>\n",
       "    <tr>\n",
       "      <th>2020-01-31</th>\n",
       "      <td>0</td>\n",
       "      <td>0</td>\n",
       "      <td>0</td>\n",
       "      <td>0</td>\n",
       "    </tr>\n",
       "    <tr>\n",
       "      <th>2020-02-01</th>\n",
       "      <td>0</td>\n",
       "      <td>0</td>\n",
       "      <td>0</td>\n",
       "      <td>0</td>\n",
       "    </tr>\n",
       "    <tr>\n",
       "      <th>2020-02-02</th>\n",
       "      <td>0</td>\n",
       "      <td>0</td>\n",
       "      <td>0</td>\n",
       "      <td>0</td>\n",
       "    </tr>\n",
       "    <tr>\n",
       "      <th>2020-02-03</th>\n",
       "      <td>0</td>\n",
       "      <td>0</td>\n",
       "      <td>0</td>\n",
       "      <td>0</td>\n",
       "    </tr>\n",
       "    <tr>\n",
       "      <th>...</th>\n",
       "      <td>...</td>\n",
       "      <td>...</td>\n",
       "      <td>...</td>\n",
       "      <td>...</td>\n",
       "    </tr>\n",
       "    <tr>\n",
       "      <th>2020-04-05</th>\n",
       "      <td>852</td>\n",
       "      <td>11130</td>\n",
       "      <td>54</td>\n",
       "      <td>486</td>\n",
       "    </tr>\n",
       "    <tr>\n",
       "      <th>2020-04-06</th>\n",
       "      <td>926</td>\n",
       "      <td>12056</td>\n",
       "      <td>67</td>\n",
       "      <td>553</td>\n",
       "    </tr>\n",
       "    <tr>\n",
       "      <th>2020-04-07</th>\n",
       "      <td>1661</td>\n",
       "      <td>13717</td>\n",
       "      <td>114</td>\n",
       "      <td>667</td>\n",
       "    </tr>\n",
       "    <tr>\n",
       "      <th>2020-04-08</th>\n",
       "      <td>2210</td>\n",
       "      <td>15927</td>\n",
       "      <td>133</td>\n",
       "      <td>800</td>\n",
       "    </tr>\n",
       "    <tr>\n",
       "      <th>2020-04-09</th>\n",
       "      <td>1930</td>\n",
       "      <td>17857</td>\n",
       "      <td>141</td>\n",
       "      <td>941</td>\n",
       "    </tr>\n",
       "  </tbody>\n",
       "</table>\n",
       "<p>71 rows × 4 columns</p>\n",
       "</div>"
      ],
      "text/plain": [
       "            casosNovos  casosAcumulados  obitosNovos  obitosAcumulados\n",
       "data                                                                  \n",
       "2020-01-30           0                0            0                 0\n",
       "2020-01-31           0                0            0                 0\n",
       "2020-02-01           0                0            0                 0\n",
       "2020-02-02           0                0            0                 0\n",
       "2020-02-03           0                0            0                 0\n",
       "...                ...              ...          ...               ...\n",
       "2020-04-05         852            11130           54               486\n",
       "2020-04-06         926            12056           67               553\n",
       "2020-04-07        1661            13717          114               667\n",
       "2020-04-08        2210            15927          133               800\n",
       "2020-04-09        1930            17857          141               941\n",
       "\n",
       "[71 rows x 4 columns]"
      ]
     },
     "execution_count": 32,
     "metadata": {},
     "output_type": "execute_result"
    }
   ],
   "source": [
    "df_brasil = casos_estados.groupby('data').sum()\n",
    "# df_brasil['casos_simulados']=res[:dias,-1]*N\n",
    "# dfcp = df_brasil[['confirmed']]\n",
    "# dfcp.to_csv('export/dados_brasil.csv')\n",
    "df_brasil"
   ]
  },
  {
   "cell_type": "code",
   "execution_count": 33,
   "metadata": {
    "ExecuteTime": {
     "end_time": "2020-04-10T12:30:12.280680Z",
     "start_time": "2020-04-10T12:30:11.912001Z"
    }
   },
   "outputs": [
    {
     "data": {
      "image/png": "[encoded data removed]",
      "text/plain": [
       "<Figure size 432x288 with 1 Axes>"
      ]
     },
     "metadata": {
      "needs_background": "light"
     },
     "output_type": "display_data"
    }
   ],
   "source": [
    "df_brasil.casosAcumulados.plot();"
   ]
  },
  {
   "cell_type": "code",
   "execution_count": 39,
   "metadata": {
    "ExecuteTime": {
     "end_time": "2020-04-10T12:31:27.057117Z",
     "start_time": "2020-04-10T12:31:26.698182Z"
    }
   },
   "outputs": [
    {
     "data": {
      "image/png": "[encoded data removed]",
      "text/plain": [
       "<Figure size 1080x576 with 1 Axes>"
      ]
     },
     "metadata": {
      "needs_background": "light"
     },
     "output_type": "display_data"
    }
   ],
   "source": [
    "dias=400\n",
    "offset = 35 # quantos dias antes do primeir caso notificado devemos começar a simulaçao\n",
    "drange = pd.date_range(df_brasil[df_brasil.casosAcumulados>0].index.min()-timedelta(offset),periods=dias,freq='D')\n",
    "# df_states.reset_index(inplace=True)\n",
    "# df_brasil = df_states.groupby('date').sum()\n",
    "fig,ax = subplots(1,1,figsize=(15,8))\n",
    "ax.plot(drange,res[:dias,-1]*N,'-v', label='Sem controle')\n",
    "# ax.plot(drange,res[:dias,-3]*N,'-v', label='Hosp')\n",
    "# ax.vlines('2020-05-5',0,1e6)\n",
    "ax.plot(drange,res_c[:dias,-1]*N,'-v', label='Com controle (Simulados)')\n",
    "# ax.plot(drange,res[:dias,2]*N,'-^', label='Prevalência')\n",
    "df_brasil[df_brasil.casosAcumulados>0].casosAcumulados.plot(ax=ax, style='-o', \n",
    "                                                            label='Dados oficiais',\n",
    "                                                            grid=True, \n",
    "                                                            logy=True)\n",
    "# Sem controle\n",
    "ax.text('2020-05-15',0.6e5, f'Casos Totais: {res[dias,-1]*N:.0f}\\nMortes: {res[dias,-1]*N*fat:.0f}', \n",
    "        fontsize=16)\n",
    "# com 10% quarentena e R0=1.7\n",
    "ax.text('2020-11-15',1e3, f'Casos Totais: {res_c[dias,-1]*N:.0f}\\nMortes:{res_c[dias,-1]*N*fat:.0f}', \n",
    "        fontsize=16)\n",
    "ax.legend();\n",
    "# plt.savefig('export/Casos_vs_Projeções_log.png',dpi=200)"
   ]
  },
  {
   "cell_type": "code",
   "execution_count": 19,
   "metadata": {
    "ExecuteTime": {
     "end_time": "2020-04-04T17:42:53.271686Z",
     "start_time": "2020-04-04T17:42:53.192521Z"
    }
   },
   "outputs": [],
   "source": [
    "df_sim = pd.DataFrame(data={'sem controle':res[:dias,-1]*N,'com controle':res_c[:dias,-1]*N}, index=drange)\n",
    "df_sim.to_csv('export/simulação_brasil_com_e_sem_controle.csv')"
   ]
  },
  {
   "cell_type": "markdown",
   "metadata": {
    "ExecuteTime": {
     "end_time": "2020-04-02T21:26:43.529245Z",
     "start_time": "2020-04-02T21:26:43.525249Z"
    }
   },
   "source": [
    "## Comparando a série do Brasil com a de outros países"
   ]
  },
  {
   "cell_type": "code",
   "execution_count": 20,
   "metadata": {
    "ExecuteTime": {
     "end_time": "2020-04-04T17:42:56.962702Z",
     "start_time": "2020-04-04T17:42:54.840970Z"
    }
   },
   "outputs": [],
   "source": [
    "confirmed = pd.read_csv('https://github.com/CSSEGISandData/COVID-19/raw/master/csse_covid_19_data/csse_covid_19_time_series/time_series_covid19_confirmed_global.csv')\n",
    "confirmed = confirmed.groupby('Country/Region').sum()"
   ]
  },
  {
   "cell_type": "code",
   "execution_count": 21,
   "metadata": {
    "ExecuteTime": {
     "end_time": "2020-04-04T17:42:59.110511Z",
     "start_time": "2020-04-04T17:42:58.921635Z"
    }
   },
   "outputs": [
    {
     "data": {
      "text/html": [
       "<div>\n",
       "<style scoped>\n",
       "    .dataframe tbody tr th:only-of-type {\n",
       "        vertical-align: middle;\n",
       "    }\n",
       "\n",
       "    .dataframe tbody tr th {\n",
       "        vertical-align: top;\n",
       "    }\n",
       "\n",
       "    .dataframe thead th {\n",
       "        text-align: right;\n",
       "    }\n",
       "</style>\n",
       "<table border=\"1\" class=\"dataframe\">\n",
       "  <thead>\n",
       "    <tr style=\"text-align: right;\">\n",
       "      <th></th>\n",
       "      <th>Lat</th>\n",
       "      <th>Long</th>\n",
       "      <th>1/22/20</th>\n",
       "      <th>1/23/20</th>\n",
       "      <th>1/24/20</th>\n",
       "      <th>1/25/20</th>\n",
       "      <th>1/26/20</th>\n",
       "      <th>1/27/20</th>\n",
       "      <th>1/28/20</th>\n",
       "      <th>1/29/20</th>\n",
       "      <th>...</th>\n",
       "      <th>3/25/20</th>\n",
       "      <th>3/26/20</th>\n",
       "      <th>3/27/20</th>\n",
       "      <th>3/28/20</th>\n",
       "      <th>3/29/20</th>\n",
       "      <th>3/30/20</th>\n",
       "      <th>3/31/20</th>\n",
       "      <th>4/1/20</th>\n",
       "      <th>4/2/20</th>\n",
       "      <th>4/3/20</th>\n",
       "    </tr>\n",
       "    <tr>\n",
       "      <th>Country/Region</th>\n",
       "      <th></th>\n",
       "      <th></th>\n",
       "      <th></th>\n",
       "      <th></th>\n",
       "      <th></th>\n",
       "      <th></th>\n",
       "      <th></th>\n",
       "      <th></th>\n",
       "      <th></th>\n",
       "      <th></th>\n",
       "      <th></th>\n",
       "      <th></th>\n",
       "      <th></th>\n",
       "      <th></th>\n",
       "      <th></th>\n",
       "      <th></th>\n",
       "      <th></th>\n",
       "      <th></th>\n",
       "      <th></th>\n",
       "      <th></th>\n",
       "      <th></th>\n",
       "    </tr>\n",
       "  </thead>\n",
       "  <tbody>\n",
       "    <tr>\n",
       "      <td>Afghanistan</td>\n",
       "      <td>33.0000</td>\n",
       "      <td>65.0000</td>\n",
       "      <td>0</td>\n",
       "      <td>0</td>\n",
       "      <td>0</td>\n",
       "      <td>0</td>\n",
       "      <td>0</td>\n",
       "      <td>0</td>\n",
       "      <td>0</td>\n",
       "      <td>0</td>\n",
       "      <td>...</td>\n",
       "      <td>84</td>\n",
       "      <td>94</td>\n",
       "      <td>110</td>\n",
       "      <td>110</td>\n",
       "      <td>120</td>\n",
       "      <td>170</td>\n",
       "      <td>174</td>\n",
       "      <td>237</td>\n",
       "      <td>273</td>\n",
       "      <td>281</td>\n",
       "    </tr>\n",
       "    <tr>\n",
       "      <td>Albania</td>\n",
       "      <td>41.1533</td>\n",
       "      <td>20.1683</td>\n",
       "      <td>0</td>\n",
       "      <td>0</td>\n",
       "      <td>0</td>\n",
       "      <td>0</td>\n",
       "      <td>0</td>\n",
       "      <td>0</td>\n",
       "      <td>0</td>\n",
       "      <td>0</td>\n",
       "      <td>...</td>\n",
       "      <td>146</td>\n",
       "      <td>174</td>\n",
       "      <td>186</td>\n",
       "      <td>197</td>\n",
       "      <td>212</td>\n",
       "      <td>223</td>\n",
       "      <td>243</td>\n",
       "      <td>259</td>\n",
       "      <td>277</td>\n",
       "      <td>304</td>\n",
       "    </tr>\n",
       "    <tr>\n",
       "      <td>Algeria</td>\n",
       "      <td>28.0339</td>\n",
       "      <td>1.6596</td>\n",
       "      <td>0</td>\n",
       "      <td>0</td>\n",
       "      <td>0</td>\n",
       "      <td>0</td>\n",
       "      <td>0</td>\n",
       "      <td>0</td>\n",
       "      <td>0</td>\n",
       "      <td>0</td>\n",
       "      <td>...</td>\n",
       "      <td>302</td>\n",
       "      <td>367</td>\n",
       "      <td>409</td>\n",
       "      <td>454</td>\n",
       "      <td>511</td>\n",
       "      <td>584</td>\n",
       "      <td>716</td>\n",
       "      <td>847</td>\n",
       "      <td>986</td>\n",
       "      <td>1171</td>\n",
       "    </tr>\n",
       "    <tr>\n",
       "      <td>Andorra</td>\n",
       "      <td>42.5063</td>\n",
       "      <td>1.5218</td>\n",
       "      <td>0</td>\n",
       "      <td>0</td>\n",
       "      <td>0</td>\n",
       "      <td>0</td>\n",
       "      <td>0</td>\n",
       "      <td>0</td>\n",
       "      <td>0</td>\n",
       "      <td>0</td>\n",
       "      <td>...</td>\n",
       "      <td>188</td>\n",
       "      <td>224</td>\n",
       "      <td>267</td>\n",
       "      <td>308</td>\n",
       "      <td>334</td>\n",
       "      <td>370</td>\n",
       "      <td>376</td>\n",
       "      <td>390</td>\n",
       "      <td>428</td>\n",
       "      <td>439</td>\n",
       "    </tr>\n",
       "    <tr>\n",
       "      <td>Angola</td>\n",
       "      <td>-11.2027</td>\n",
       "      <td>17.8739</td>\n",
       "      <td>0</td>\n",
       "      <td>0</td>\n",
       "      <td>0</td>\n",
       "      <td>0</td>\n",
       "      <td>0</td>\n",
       "      <td>0</td>\n",
       "      <td>0</td>\n",
       "      <td>0</td>\n",
       "      <td>...</td>\n",
       "      <td>3</td>\n",
       "      <td>4</td>\n",
       "      <td>4</td>\n",
       "      <td>5</td>\n",
       "      <td>7</td>\n",
       "      <td>7</td>\n",
       "      <td>7</td>\n",
       "      <td>8</td>\n",
       "      <td>8</td>\n",
       "      <td>8</td>\n",
       "    </tr>\n",
       "    <tr>\n",
       "      <td>...</td>\n",
       "      <td>...</td>\n",
       "      <td>...</td>\n",
       "      <td>...</td>\n",
       "      <td>...</td>\n",
       "      <td>...</td>\n",
       "      <td>...</td>\n",
       "      <td>...</td>\n",
       "      <td>...</td>\n",
       "      <td>...</td>\n",
       "      <td>...</td>\n",
       "      <td>...</td>\n",
       "      <td>...</td>\n",
       "      <td>...</td>\n",
       "      <td>...</td>\n",
       "      <td>...</td>\n",
       "      <td>...</td>\n",
       "      <td>...</td>\n",
       "      <td>...</td>\n",
       "      <td>...</td>\n",
       "      <td>...</td>\n",
       "      <td>...</td>\n",
       "    </tr>\n",
       "    <tr>\n",
       "      <td>Venezuela</td>\n",
       "      <td>6.4238</td>\n",
       "      <td>-66.5897</td>\n",
       "      <td>0</td>\n",
       "      <td>0</td>\n",
       "      <td>0</td>\n",
       "      <td>0</td>\n",
       "      <td>0</td>\n",
       "      <td>0</td>\n",
       "      <td>0</td>\n",
       "      <td>0</td>\n",
       "      <td>...</td>\n",
       "      <td>91</td>\n",
       "      <td>107</td>\n",
       "      <td>107</td>\n",
       "      <td>119</td>\n",
       "      <td>119</td>\n",
       "      <td>135</td>\n",
       "      <td>135</td>\n",
       "      <td>143</td>\n",
       "      <td>146</td>\n",
       "      <td>153</td>\n",
       "    </tr>\n",
       "    <tr>\n",
       "      <td>Vietnam</td>\n",
       "      <td>16.0000</td>\n",
       "      <td>108.0000</td>\n",
       "      <td>0</td>\n",
       "      <td>2</td>\n",
       "      <td>2</td>\n",
       "      <td>2</td>\n",
       "      <td>2</td>\n",
       "      <td>2</td>\n",
       "      <td>2</td>\n",
       "      <td>2</td>\n",
       "      <td>...</td>\n",
       "      <td>141</td>\n",
       "      <td>153</td>\n",
       "      <td>163</td>\n",
       "      <td>174</td>\n",
       "      <td>188</td>\n",
       "      <td>203</td>\n",
       "      <td>212</td>\n",
       "      <td>218</td>\n",
       "      <td>233</td>\n",
       "      <td>237</td>\n",
       "    </tr>\n",
       "    <tr>\n",
       "      <td>West Bank and Gaza</td>\n",
       "      <td>31.9522</td>\n",
       "      <td>35.2332</td>\n",
       "      <td>0</td>\n",
       "      <td>0</td>\n",
       "      <td>0</td>\n",
       "      <td>0</td>\n",
       "      <td>0</td>\n",
       "      <td>0</td>\n",
       "      <td>0</td>\n",
       "      <td>0</td>\n",
       "      <td>...</td>\n",
       "      <td>59</td>\n",
       "      <td>84</td>\n",
       "      <td>91</td>\n",
       "      <td>98</td>\n",
       "      <td>109</td>\n",
       "      <td>116</td>\n",
       "      <td>119</td>\n",
       "      <td>134</td>\n",
       "      <td>161</td>\n",
       "      <td>194</td>\n",
       "    </tr>\n",
       "    <tr>\n",
       "      <td>Zambia</td>\n",
       "      <td>-15.4167</td>\n",
       "      <td>28.2833</td>\n",
       "      <td>0</td>\n",
       "      <td>0</td>\n",
       "      <td>0</td>\n",
       "      <td>0</td>\n",
       "      <td>0</td>\n",
       "      <td>0</td>\n",
       "      <td>0</td>\n",
       "      <td>0</td>\n",
       "      <td>...</td>\n",
       "      <td>12</td>\n",
       "      <td>16</td>\n",
       "      <td>22</td>\n",
       "      <td>28</td>\n",
       "      <td>29</td>\n",
       "      <td>35</td>\n",
       "      <td>35</td>\n",
       "      <td>36</td>\n",
       "      <td>39</td>\n",
       "      <td>39</td>\n",
       "    </tr>\n",
       "    <tr>\n",
       "      <td>Zimbabwe</td>\n",
       "      <td>-20.0000</td>\n",
       "      <td>30.0000</td>\n",
       "      <td>0</td>\n",
       "      <td>0</td>\n",
       "      <td>0</td>\n",
       "      <td>0</td>\n",
       "      <td>0</td>\n",
       "      <td>0</td>\n",
       "      <td>0</td>\n",
       "      <td>0</td>\n",
       "      <td>...</td>\n",
       "      <td>3</td>\n",
       "      <td>3</td>\n",
       "      <td>5</td>\n",
       "      <td>7</td>\n",
       "      <td>7</td>\n",
       "      <td>7</td>\n",
       "      <td>8</td>\n",
       "      <td>8</td>\n",
       "      <td>9</td>\n",
       "      <td>9</td>\n",
       "    </tr>\n",
       "  </tbody>\n",
       "</table>\n",
       "<p>181 rows × 75 columns</p>\n",
       "</div>"
      ],
      "text/plain": [
       "                        Lat      Long  1/22/20  1/23/20  1/24/20  1/25/20  \\\n",
       "Country/Region                                                              \n",
       "Afghanistan         33.0000   65.0000        0        0        0        0   \n",
       "Albania             41.1533   20.1683        0        0        0        0   \n",
       "Algeria             28.0339    1.6596        0        0        0        0   \n",
       "Andorra             42.5063    1.5218        0        0        0        0   \n",
       "Angola             -11.2027   17.8739        0        0        0        0   \n",
       "...                     ...       ...      ...      ...      ...      ...   \n",
       "Venezuela            6.4238  -66.5897        0        0        0        0   \n",
       "Vietnam             16.0000  108.0000        0        2        2        2   \n",
       "West Bank and Gaza  31.9522   35.2332        0        0        0        0   \n",
       "Zambia             -15.4167   28.2833        0        0        0        0   \n",
       "Zimbabwe           -20.0000   30.0000        0        0        0        0   \n",
       "\n",
       "                    1/26/20  1/27/20  1/28/20  1/29/20  ...  3/25/20  3/26/20  \\\n",
       "Country/Region                                          ...                     \n",
       "Afghanistan               0        0        0        0  ...       84       94   \n",
       "Albania                   0        0        0        0  ...      146      174   \n",
       "Algeria                   0        0        0        0  ...      302      367   \n",
       "Andorra                   0        0        0        0  ...      188      224   \n",
       "Angola                    0        0        0        0  ...        3        4   \n",
       "...                     ...      ...      ...      ...  ...      ...      ...   \n",
       "Venezuela                 0        0        0        0  ...       91      107   \n",
       "Vietnam                   2        2        2        2  ...      141      153   \n",
       "West Bank and Gaza        0        0        0        0  ...       59       84   \n",
       "Zambia                    0        0        0        0  ...       12       16   \n",
       "Zimbabwe                  0        0        0        0  ...        3        3   \n",
       "\n",
       "                    3/27/20  3/28/20  3/29/20  3/30/20  3/31/20  4/1/20  \\\n",
       "Country/Region                                                            \n",
       "Afghanistan             110      110      120      170      174     237   \n",
       "Albania                 186      197      212      223      243     259   \n",
       "Algeria                 409      454      511      584      716     847   \n",
       "Andorra                 267      308      334      370      376     390   \n",
       "Angola                    4        5        7        7        7       8   \n",
       "...                     ...      ...      ...      ...      ...     ...   \n",
       "Venezuela               107      119      119      135      135     143   \n",
       "Vietnam                 163      174      188      203      212     218   \n",
       "West Bank and Gaza       91       98      109      116      119     134   \n",
       "Zambia                   22       28       29       35       35      36   \n",
       "Zimbabwe                  5        7        7        7        8       8   \n",
       "\n",
       "                    4/2/20  4/3/20  \n",
       "Country/Region                      \n",
       "Afghanistan            273     281  \n",
       "Albania                277     304  \n",
       "Algeria                986    1171  \n",
       "Andorra                428     439  \n",
       "Angola                   8       8  \n",
       "...                    ...     ...  \n",
       "Venezuela              146     153  \n",
       "Vietnam                233     237  \n",
       "West Bank and Gaza     161     194  \n",
       "Zambia                  39      39  \n",
       "Zimbabwe                 9       9  \n",
       "\n",
       "[181 rows x 75 columns]"
      ]
     },
     "execution_count": 21,
     "metadata": {},
     "output_type": "execute_result"
    }
   ],
   "source": [
    "confirmed"
   ]
  },
  {
   "cell_type": "code",
   "execution_count": 48,
   "metadata": {
    "ExecuteTime": {
     "end_time": "2020-04-04T17:16:42.227640Z",
     "start_time": "2020-04-04T17:16:41.150998Z"
    }
   },
   "outputs": [],
   "source": [
    "conf_US = pd.read_csv('https://github.com/CSSEGISandData/COVID-19/raw/master/csse_covid_19_data/csse_covid_19_time_series/time_series_covid19_confirmed_US.csv')"
   ]
  },
  {
   "cell_type": "code",
   "execution_count": 49,
   "metadata": {
    "ExecuteTime": {
     "end_time": "2020-04-04T17:16:42.533258Z",
     "start_time": "2020-04-04T17:16:42.476113Z"
    }
   },
   "outputs": [
    {
     "data": {
      "text/html": [
       "<div>\n",
       "<style scoped>\n",
       "    .dataframe tbody tr th:only-of-type {\n",
       "        vertical-align: middle;\n",
       "    }\n",
       "\n",
       "    .dataframe tbody tr th {\n",
       "        vertical-align: top;\n",
       "    }\n",
       "\n",
       "    .dataframe thead th {\n",
       "        text-align: right;\n",
       "    }\n",
       "</style>\n",
       "<table border=\"1\" class=\"dataframe\">\n",
       "  <thead>\n",
       "    <tr style=\"text-align: right;\">\n",
       "      <th></th>\n",
       "      <th>UID</th>\n",
       "      <th>iso2</th>\n",
       "      <th>iso3</th>\n",
       "      <th>code3</th>\n",
       "      <th>FIPS</th>\n",
       "      <th>Admin2</th>\n",
       "      <th>Province_State</th>\n",
       "      <th>Country_Region</th>\n",
       "      <th>Lat</th>\n",
       "      <th>Long_</th>\n",
       "      <th>...</th>\n",
       "      <th>3/25/20</th>\n",
       "      <th>3/26/20</th>\n",
       "      <th>3/27/20</th>\n",
       "      <th>3/28/20</th>\n",
       "      <th>3/29/20</th>\n",
       "      <th>3/30/20</th>\n",
       "      <th>3/31/20</th>\n",
       "      <th>4/1/20</th>\n",
       "      <th>4/2/20</th>\n",
       "      <th>4/3/20</th>\n",
       "    </tr>\n",
       "  </thead>\n",
       "  <tbody>\n",
       "    <tr>\n",
       "      <td>0</td>\n",
       "      <td>16</td>\n",
       "      <td>AS</td>\n",
       "      <td>ASM</td>\n",
       "      <td>16</td>\n",
       "      <td>60.0</td>\n",
       "      <td>NaN</td>\n",
       "      <td>American Samoa</td>\n",
       "      <td>US</td>\n",
       "      <td>-14.2710</td>\n",
       "      <td>-170.1320</td>\n",
       "      <td>...</td>\n",
       "      <td>0</td>\n",
       "      <td>0</td>\n",
       "      <td>0</td>\n",
       "      <td>0</td>\n",
       "      <td>0</td>\n",
       "      <td>0</td>\n",
       "      <td>0</td>\n",
       "      <td>0</td>\n",
       "      <td>0</td>\n",
       "      <td>0</td>\n",
       "    </tr>\n",
       "    <tr>\n",
       "      <td>1</td>\n",
       "      <td>316</td>\n",
       "      <td>GU</td>\n",
       "      <td>GUM</td>\n",
       "      <td>316</td>\n",
       "      <td>66.0</td>\n",
       "      <td>NaN</td>\n",
       "      <td>Guam</td>\n",
       "      <td>US</td>\n",
       "      <td>13.4443</td>\n",
       "      <td>144.7937</td>\n",
       "      <td>...</td>\n",
       "      <td>37</td>\n",
       "      <td>45</td>\n",
       "      <td>51</td>\n",
       "      <td>55</td>\n",
       "      <td>56</td>\n",
       "      <td>58</td>\n",
       "      <td>69</td>\n",
       "      <td>77</td>\n",
       "      <td>82</td>\n",
       "      <td>84</td>\n",
       "    </tr>\n",
       "    <tr>\n",
       "      <td>2</td>\n",
       "      <td>580</td>\n",
       "      <td>MP</td>\n",
       "      <td>MNP</td>\n",
       "      <td>580</td>\n",
       "      <td>69.0</td>\n",
       "      <td>NaN</td>\n",
       "      <td>Northern Mariana Islands</td>\n",
       "      <td>US</td>\n",
       "      <td>15.0979</td>\n",
       "      <td>145.6739</td>\n",
       "      <td>...</td>\n",
       "      <td>0</td>\n",
       "      <td>0</td>\n",
       "      <td>0</td>\n",
       "      <td>0</td>\n",
       "      <td>0</td>\n",
       "      <td>0</td>\n",
       "      <td>2</td>\n",
       "      <td>6</td>\n",
       "      <td>6</td>\n",
       "      <td>6</td>\n",
       "    </tr>\n",
       "    <tr>\n",
       "      <td>3</td>\n",
       "      <td>630</td>\n",
       "      <td>PR</td>\n",
       "      <td>PRI</td>\n",
       "      <td>630</td>\n",
       "      <td>72.0</td>\n",
       "      <td>NaN</td>\n",
       "      <td>Puerto Rico</td>\n",
       "      <td>US</td>\n",
       "      <td>18.2208</td>\n",
       "      <td>-66.5901</td>\n",
       "      <td>...</td>\n",
       "      <td>51</td>\n",
       "      <td>64</td>\n",
       "      <td>79</td>\n",
       "      <td>100</td>\n",
       "      <td>127</td>\n",
       "      <td>174</td>\n",
       "      <td>239</td>\n",
       "      <td>286</td>\n",
       "      <td>316</td>\n",
       "      <td>316</td>\n",
       "    </tr>\n",
       "    <tr>\n",
       "      <td>4</td>\n",
       "      <td>850</td>\n",
       "      <td>VI</td>\n",
       "      <td>VIR</td>\n",
       "      <td>850</td>\n",
       "      <td>78.0</td>\n",
       "      <td>NaN</td>\n",
       "      <td>Virgin Islands</td>\n",
       "      <td>US</td>\n",
       "      <td>18.3358</td>\n",
       "      <td>-64.8963</td>\n",
       "      <td>...</td>\n",
       "      <td>17</td>\n",
       "      <td>17</td>\n",
       "      <td>19</td>\n",
       "      <td>22</td>\n",
       "      <td>0</td>\n",
       "      <td>0</td>\n",
       "      <td>30</td>\n",
       "      <td>30</td>\n",
       "      <td>30</td>\n",
       "      <td>37</td>\n",
       "    </tr>\n",
       "    <tr>\n",
       "      <td>...</td>\n",
       "      <td>...</td>\n",
       "      <td>...</td>\n",
       "      <td>...</td>\n",
       "      <td>...</td>\n",
       "      <td>...</td>\n",
       "      <td>...</td>\n",
       "      <td>...</td>\n",
       "      <td>...</td>\n",
       "      <td>...</td>\n",
       "      <td>...</td>\n",
       "      <td>...</td>\n",
       "      <td>...</td>\n",
       "      <td>...</td>\n",
       "      <td>...</td>\n",
       "      <td>...</td>\n",
       "      <td>...</td>\n",
       "      <td>...</td>\n",
       "      <td>...</td>\n",
       "      <td>...</td>\n",
       "      <td>...</td>\n",
       "      <td>...</td>\n",
       "    </tr>\n",
       "    <tr>\n",
       "      <td>3248</td>\n",
       "      <td>84090053</td>\n",
       "      <td>US</td>\n",
       "      <td>USA</td>\n",
       "      <td>840</td>\n",
       "      <td>90053.0</td>\n",
       "      <td>Unassigned</td>\n",
       "      <td>Washington</td>\n",
       "      <td>US</td>\n",
       "      <td>0.0000</td>\n",
       "      <td>0.0000</td>\n",
       "      <td>...</td>\n",
       "      <td>51</td>\n",
       "      <td>69</td>\n",
       "      <td>67</td>\n",
       "      <td>0</td>\n",
       "      <td>125</td>\n",
       "      <td>274</td>\n",
       "      <td>274</td>\n",
       "      <td>303</td>\n",
       "      <td>344</td>\n",
       "      <td>501</td>\n",
       "    </tr>\n",
       "    <tr>\n",
       "      <td>3249</td>\n",
       "      <td>84090054</td>\n",
       "      <td>US</td>\n",
       "      <td>USA</td>\n",
       "      <td>840</td>\n",
       "      <td>90054.0</td>\n",
       "      <td>Unassigned</td>\n",
       "      <td>West Virginia</td>\n",
       "      <td>US</td>\n",
       "      <td>0.0000</td>\n",
       "      <td>0.0000</td>\n",
       "      <td>...</td>\n",
       "      <td>0</td>\n",
       "      <td>0</td>\n",
       "      <td>0</td>\n",
       "      <td>0</td>\n",
       "      <td>0</td>\n",
       "      <td>0</td>\n",
       "      <td>0</td>\n",
       "      <td>0</td>\n",
       "      <td>0</td>\n",
       "      <td>0</td>\n",
       "    </tr>\n",
       "    <tr>\n",
       "      <td>3250</td>\n",
       "      <td>84090055</td>\n",
       "      <td>US</td>\n",
       "      <td>USA</td>\n",
       "      <td>840</td>\n",
       "      <td>90055.0</td>\n",
       "      <td>Unassigned</td>\n",
       "      <td>Wisconsin</td>\n",
       "      <td>US</td>\n",
       "      <td>0.0000</td>\n",
       "      <td>0.0000</td>\n",
       "      <td>...</td>\n",
       "      <td>0</td>\n",
       "      <td>0</td>\n",
       "      <td>61</td>\n",
       "      <td>0</td>\n",
       "      <td>0</td>\n",
       "      <td>0</td>\n",
       "      <td>0</td>\n",
       "      <td>0</td>\n",
       "      <td>0</td>\n",
       "      <td>0</td>\n",
       "    </tr>\n",
       "    <tr>\n",
       "      <td>3251</td>\n",
       "      <td>84090056</td>\n",
       "      <td>US</td>\n",
       "      <td>USA</td>\n",
       "      <td>840</td>\n",
       "      <td>90056.0</td>\n",
       "      <td>Unassigned</td>\n",
       "      <td>Wyoming</td>\n",
       "      <td>US</td>\n",
       "      <td>0.0000</td>\n",
       "      <td>0.0000</td>\n",
       "      <td>...</td>\n",
       "      <td>0</td>\n",
       "      <td>0</td>\n",
       "      <td>0</td>\n",
       "      <td>0</td>\n",
       "      <td>0</td>\n",
       "      <td>0</td>\n",
       "      <td>0</td>\n",
       "      <td>0</td>\n",
       "      <td>0</td>\n",
       "      <td>0</td>\n",
       "    </tr>\n",
       "    <tr>\n",
       "      <td>3252</td>\n",
       "      <td>84099999</td>\n",
       "      <td>US</td>\n",
       "      <td>USA</td>\n",
       "      <td>840</td>\n",
       "      <td>99999.0</td>\n",
       "      <td>NaN</td>\n",
       "      <td>Grand Princess</td>\n",
       "      <td>US</td>\n",
       "      <td>0.0000</td>\n",
       "      <td>0.0000</td>\n",
       "      <td>...</td>\n",
       "      <td>28</td>\n",
       "      <td>28</td>\n",
       "      <td>28</td>\n",
       "      <td>103</td>\n",
       "      <td>103</td>\n",
       "      <td>103</td>\n",
       "      <td>103</td>\n",
       "      <td>103</td>\n",
       "      <td>103</td>\n",
       "      <td>103</td>\n",
       "    </tr>\n",
       "  </tbody>\n",
       "</table>\n",
       "<p>3253 rows × 84 columns</p>\n",
       "</div>"
      ],
      "text/plain": [
       "           UID iso2 iso3  code3     FIPS      Admin2  \\\n",
       "0           16   AS  ASM     16     60.0         NaN   \n",
       "1          316   GU  GUM    316     66.0         NaN   \n",
       "2          580   MP  MNP    580     69.0         NaN   \n",
       "3          630   PR  PRI    630     72.0         NaN   \n",
       "4          850   VI  VIR    850     78.0         NaN   \n",
       "...        ...  ...  ...    ...      ...         ...   \n",
       "3248  84090053   US  USA    840  90053.0  Unassigned   \n",
       "3249  84090054   US  USA    840  90054.0  Unassigned   \n",
       "3250  84090055   US  USA    840  90055.0  Unassigned   \n",
       "3251  84090056   US  USA    840  90056.0  Unassigned   \n",
       "3252  84099999   US  USA    840  99999.0         NaN   \n",
       "\n",
       "                Province_State Country_Region      Lat     Long_  ... 3/25/20  \\\n",
       "0               American Samoa             US -14.2710 -170.1320  ...       0   \n",
       "1                         Guam             US  13.4443  144.7937  ...      37   \n",
       "2     Northern Mariana Islands             US  15.0979  145.6739  ...       0   \n",
       "3                  Puerto Rico             US  18.2208  -66.5901  ...      51   \n",
       "4               Virgin Islands             US  18.3358  -64.8963  ...      17   \n",
       "...                        ...            ...      ...       ...  ...     ...   \n",
       "3248                Washington             US   0.0000    0.0000  ...      51   \n",
       "3249             West Virginia             US   0.0000    0.0000  ...       0   \n",
       "3250                 Wisconsin             US   0.0000    0.0000  ...       0   \n",
       "3251                   Wyoming             US   0.0000    0.0000  ...       0   \n",
       "3252            Grand Princess             US   0.0000    0.0000  ...      28   \n",
       "\n",
       "      3/26/20  3/27/20  3/28/20  3/29/20  3/30/20  3/31/20  4/1/20  4/2/20  \\\n",
       "0           0        0        0        0        0        0       0       0   \n",
       "1          45       51       55       56       58       69      77      82   \n",
       "2           0        0        0        0        0        2       6       6   \n",
       "3          64       79      100      127      174      239     286     316   \n",
       "4          17       19       22        0        0       30      30      30   \n",
       "...       ...      ...      ...      ...      ...      ...     ...     ...   \n",
       "3248       69       67        0      125      274      274     303     344   \n",
       "3249        0        0        0        0        0        0       0       0   \n",
       "3250        0       61        0        0        0        0       0       0   \n",
       "3251        0        0        0        0        0        0       0       0   \n",
       "3252       28       28      103      103      103      103     103     103   \n",
       "\n",
       "      4/3/20  \n",
       "0          0  \n",
       "1         84  \n",
       "2          6  \n",
       "3        316  \n",
       "4         37  \n",
       "...      ...  \n",
       "3248     501  \n",
       "3249       0  \n",
       "3250       0  \n",
       "3251       0  \n",
       "3252     103  \n",
       "\n",
       "[3253 rows x 84 columns]"
      ]
     },
     "execution_count": 49,
     "metadata": {},
     "output_type": "execute_result"
    }
   ],
   "source": [
    "conf_US"
   ]
  },
  {
   "cell_type": "code",
   "execution_count": 50,
   "metadata": {
    "ExecuteTime": {
     "end_time": "2020-04-04T17:16:42.773184Z",
     "start_time": "2020-04-04T17:16:42.744135Z"
    }
   },
   "outputs": [
    {
     "data": {
      "text/html": [
       "<div>\n",
       "<style scoped>\n",
       "    .dataframe tbody tr th:only-of-type {\n",
       "        vertical-align: middle;\n",
       "    }\n",
       "\n",
       "    .dataframe tbody tr th {\n",
       "        vertical-align: top;\n",
       "    }\n",
       "\n",
       "    .dataframe thead th {\n",
       "        text-align: right;\n",
       "    }\n",
       "</style>\n",
       "<table border=\"1\" class=\"dataframe\">\n",
       "  <thead>\n",
       "    <tr style=\"text-align: right;\">\n",
       "      <th></th>\n",
       "      <th>UID</th>\n",
       "      <th>code3</th>\n",
       "      <th>FIPS</th>\n",
       "      <th>Lat</th>\n",
       "      <th>Long_</th>\n",
       "      <th>1/22/20</th>\n",
       "      <th>1/23/20</th>\n",
       "      <th>1/24/20</th>\n",
       "      <th>1/25/20</th>\n",
       "      <th>1/26/20</th>\n",
       "      <th>...</th>\n",
       "      <th>3/25/20</th>\n",
       "      <th>3/26/20</th>\n",
       "      <th>3/27/20</th>\n",
       "      <th>3/28/20</th>\n",
       "      <th>3/29/20</th>\n",
       "      <th>3/30/20</th>\n",
       "      <th>3/31/20</th>\n",
       "      <th>4/1/20</th>\n",
       "      <th>4/2/20</th>\n",
       "      <th>4/3/20</th>\n",
       "    </tr>\n",
       "    <tr>\n",
       "      <th>Country_Region</th>\n",
       "      <th></th>\n",
       "      <th></th>\n",
       "      <th></th>\n",
       "      <th></th>\n",
       "      <th></th>\n",
       "      <th></th>\n",
       "      <th></th>\n",
       "      <th></th>\n",
       "      <th></th>\n",
       "      <th></th>\n",
       "      <th></th>\n",
       "      <th></th>\n",
       "      <th></th>\n",
       "      <th></th>\n",
       "      <th></th>\n",
       "      <th></th>\n",
       "      <th></th>\n",
       "      <th></th>\n",
       "      <th></th>\n",
       "      <th></th>\n",
       "      <th></th>\n",
       "    </tr>\n",
       "  </thead>\n",
       "  <tbody>\n",
       "    <tr>\n",
       "      <td>US</td>\n",
       "      <td>272936469664</td>\n",
       "      <td>2730712</td>\n",
       "      <td>104327612.0</td>\n",
       "      <td>120958.868944</td>\n",
       "      <td>-290083.749251</td>\n",
       "      <td>1</td>\n",
       "      <td>1</td>\n",
       "      <td>2</td>\n",
       "      <td>2</td>\n",
       "      <td>5</td>\n",
       "      <td>...</td>\n",
       "      <td>65778</td>\n",
       "      <td>83836</td>\n",
       "      <td>101657</td>\n",
       "      <td>121478</td>\n",
       "      <td>140886</td>\n",
       "      <td>161807</td>\n",
       "      <td>188172</td>\n",
       "      <td>213362</td>\n",
       "      <td>243453</td>\n",
       "      <td>275582</td>\n",
       "    </tr>\n",
       "  </tbody>\n",
       "</table>\n",
       "<p>1 rows × 78 columns</p>\n",
       "</div>"
      ],
      "text/plain": [
       "                         UID    code3         FIPS            Lat  \\\n",
       "Country_Region                                                      \n",
       "US              272936469664  2730712  104327612.0  120958.868944   \n",
       "\n",
       "                        Long_  1/22/20  1/23/20  1/24/20  1/25/20  1/26/20  \\\n",
       "Country_Region                                                               \n",
       "US             -290083.749251        1        1        2        2        5   \n",
       "\n",
       "                ...  3/25/20  3/26/20  3/27/20  3/28/20  3/29/20  3/30/20  \\\n",
       "Country_Region  ...                                                         \n",
       "US              ...    65778    83836   101657   121478   140886   161807   \n",
       "\n",
       "                3/31/20  4/1/20  4/2/20  4/3/20  \n",
       "Country_Region                                   \n",
       "US               188172  213362  243453  275582  \n",
       "\n",
       "[1 rows x 78 columns]"
      ]
     },
     "execution_count": 50,
     "metadata": {},
     "output_type": "execute_result"
    }
   ],
   "source": [
    "conf_US.groupby('Country_Region').sum()"
   ]
  },
  {
   "cell_type": "code",
   "execution_count": 51,
   "metadata": {
    "ExecuteTime": {
     "end_time": "2020-04-04T17:16:43.607479Z",
     "start_time": "2020-04-04T17:16:43.567672Z"
    }
   },
   "outputs": [
    {
     "data": {
      "text/html": [
       "<div>\n",
       "<style scoped>\n",
       "    .dataframe tbody tr th:only-of-type {\n",
       "        vertical-align: middle;\n",
       "    }\n",
       "\n",
       "    .dataframe tbody tr th {\n",
       "        vertical-align: top;\n",
       "    }\n",
       "\n",
       "    .dataframe thead th {\n",
       "        text-align: right;\n",
       "    }\n",
       "</style>\n",
       "<table border=\"1\" class=\"dataframe\">\n",
       "  <thead>\n",
       "    <tr style=\"text-align: right;\">\n",
       "      <th>Country_Region</th>\n",
       "      <th>US</th>\n",
       "    </tr>\n",
       "    <tr>\n",
       "      <th>data</th>\n",
       "      <th></th>\n",
       "    </tr>\n",
       "  </thead>\n",
       "  <tbody>\n",
       "    <tr>\n",
       "      <td>2020-01-22</td>\n",
       "      <td>1.0</td>\n",
       "    </tr>\n",
       "    <tr>\n",
       "      <td>2020-01-23</td>\n",
       "      <td>1.0</td>\n",
       "    </tr>\n",
       "    <tr>\n",
       "      <td>2020-01-24</td>\n",
       "      <td>2.0</td>\n",
       "    </tr>\n",
       "    <tr>\n",
       "      <td>2020-01-25</td>\n",
       "      <td>2.0</td>\n",
       "    </tr>\n",
       "    <tr>\n",
       "      <td>2020-01-26</td>\n",
       "      <td>5.0</td>\n",
       "    </tr>\n",
       "    <tr>\n",
       "      <td>...</td>\n",
       "      <td>...</td>\n",
       "    </tr>\n",
       "    <tr>\n",
       "      <td>2020-03-30</td>\n",
       "      <td>161807.0</td>\n",
       "    </tr>\n",
       "    <tr>\n",
       "      <td>2020-03-31</td>\n",
       "      <td>188172.0</td>\n",
       "    </tr>\n",
       "    <tr>\n",
       "      <td>2020-04-01</td>\n",
       "      <td>213362.0</td>\n",
       "    </tr>\n",
       "    <tr>\n",
       "      <td>2020-04-02</td>\n",
       "      <td>243453.0</td>\n",
       "    </tr>\n",
       "    <tr>\n",
       "      <td>2020-04-03</td>\n",
       "      <td>275582.0</td>\n",
       "    </tr>\n",
       "  </tbody>\n",
       "</table>\n",
       "<p>73 rows × 1 columns</p>\n",
       "</div>"
      ],
      "text/plain": [
       "Country_Region        US\n",
       "data                    \n",
       "2020-01-22           1.0\n",
       "2020-01-23           1.0\n",
       "2020-01-24           2.0\n",
       "2020-01-25           2.0\n",
       "2020-01-26           5.0\n",
       "...                  ...\n",
       "2020-03-30      161807.0\n",
       "2020-03-31      188172.0\n",
       "2020-04-01      213362.0\n",
       "2020-04-02      243453.0\n",
       "2020-04-03      275582.0\n",
       "\n",
       "[73 rows x 1 columns]"
      ]
     },
     "execution_count": 51,
     "metadata": {},
     "output_type": "execute_result"
    }
   ],
   "source": [
    "serie_US = conf_US.groupby('Country_Region').sum().T\n",
    "serie_US = serie_US.iloc[5:]\n",
    "serie_US.index  = pd.to_datetime(serie_US.index)\n",
    "serie_US.index.name = 'data'\n",
    "# serie_US['acumulados'] = np.cumsum(serie_US.US)\n",
    "serie_US"
   ]
  },
  {
   "cell_type": "code",
   "execution_count": 52,
   "metadata": {
    "ExecuteTime": {
     "end_time": "2020-04-04T17:16:46.098971Z",
     "start_time": "2020-04-04T17:16:46.048597Z"
    }
   },
   "outputs": [
    {
     "data": {
      "text/html": [
       "<div>\n",
       "<style scoped>\n",
       "    .dataframe tbody tr th:only-of-type {\n",
       "        vertical-align: middle;\n",
       "    }\n",
       "\n",
       "    .dataframe tbody tr th {\n",
       "        vertical-align: top;\n",
       "    }\n",
       "\n",
       "    .dataframe thead th {\n",
       "        text-align: right;\n",
       "    }\n",
       "</style>\n",
       "<table border=\"1\" class=\"dataframe\">\n",
       "  <thead>\n",
       "    <tr style=\"text-align: right;\">\n",
       "      <th></th>\n",
       "      <th>Sweden</th>\n",
       "      <th>Germany</th>\n",
       "      <th>Spain</th>\n",
       "      <th>Italy</th>\n",
       "    </tr>\n",
       "  </thead>\n",
       "  <tbody>\n",
       "    <tr>\n",
       "      <td>2020-01-22</td>\n",
       "      <td>0.0</td>\n",
       "      <td>0.0</td>\n",
       "      <td>0.0</td>\n",
       "      <td>0.0</td>\n",
       "    </tr>\n",
       "    <tr>\n",
       "      <td>2020-01-23</td>\n",
       "      <td>0.0</td>\n",
       "      <td>0.0</td>\n",
       "      <td>0.0</td>\n",
       "      <td>0.0</td>\n",
       "    </tr>\n",
       "    <tr>\n",
       "      <td>2020-01-24</td>\n",
       "      <td>0.0</td>\n",
       "      <td>0.0</td>\n",
       "      <td>0.0</td>\n",
       "      <td>0.0</td>\n",
       "    </tr>\n",
       "    <tr>\n",
       "      <td>2020-01-25</td>\n",
       "      <td>0.0</td>\n",
       "      <td>0.0</td>\n",
       "      <td>0.0</td>\n",
       "      <td>0.0</td>\n",
       "    </tr>\n",
       "    <tr>\n",
       "      <td>2020-01-26</td>\n",
       "      <td>0.0</td>\n",
       "      <td>0.0</td>\n",
       "      <td>0.0</td>\n",
       "      <td>0.0</td>\n",
       "    </tr>\n",
       "    <tr>\n",
       "      <td>...</td>\n",
       "      <td>...</td>\n",
       "      <td>...</td>\n",
       "      <td>...</td>\n",
       "      <td>...</td>\n",
       "    </tr>\n",
       "    <tr>\n",
       "      <td>2020-03-30</td>\n",
       "      <td>4028.0</td>\n",
       "      <td>66885.0</td>\n",
       "      <td>87956.0</td>\n",
       "      <td>101739.0</td>\n",
       "    </tr>\n",
       "    <tr>\n",
       "      <td>2020-03-31</td>\n",
       "      <td>4435.0</td>\n",
       "      <td>71808.0</td>\n",
       "      <td>95923.0</td>\n",
       "      <td>105792.0</td>\n",
       "    </tr>\n",
       "    <tr>\n",
       "      <td>2020-04-01</td>\n",
       "      <td>4947.0</td>\n",
       "      <td>77872.0</td>\n",
       "      <td>104118.0</td>\n",
       "      <td>110574.0</td>\n",
       "    </tr>\n",
       "    <tr>\n",
       "      <td>2020-04-02</td>\n",
       "      <td>5568.0</td>\n",
       "      <td>84794.0</td>\n",
       "      <td>112065.0</td>\n",
       "      <td>115242.0</td>\n",
       "    </tr>\n",
       "    <tr>\n",
       "      <td>2020-04-03</td>\n",
       "      <td>6131.0</td>\n",
       "      <td>91159.0</td>\n",
       "      <td>119199.0</td>\n",
       "      <td>119827.0</td>\n",
       "    </tr>\n",
       "  </tbody>\n",
       "</table>\n",
       "<p>73 rows × 4 columns</p>\n",
       "</div>"
      ],
      "text/plain": [
       "            Sweden  Germany     Spain     Italy\n",
       "2020-01-22     0.0      0.0       0.0       0.0\n",
       "2020-01-23     0.0      0.0       0.0       0.0\n",
       "2020-01-24     0.0      0.0       0.0       0.0\n",
       "2020-01-25     0.0      0.0       0.0       0.0\n",
       "2020-01-26     0.0      0.0       0.0       0.0\n",
       "...            ...      ...       ...       ...\n",
       "2020-03-30  4028.0  66885.0   87956.0  101739.0\n",
       "2020-03-31  4435.0  71808.0   95923.0  105792.0\n",
       "2020-04-01  4947.0  77872.0  104118.0  110574.0\n",
       "2020-04-02  5568.0  84794.0  112065.0  115242.0\n",
       "2020-04-03  6131.0  91159.0  119199.0  119827.0\n",
       "\n",
       "[73 rows x 4 columns]"
      ]
     },
     "execution_count": 52,
     "metadata": {},
     "output_type": "execute_result"
    }
   ],
   "source": [
    "# outros = pd.DataFrame(data=)\n",
    "suecia = confirmed.loc['Sweden'][2:]\n",
    "alemanha = confirmed.loc['Germany'][2:]\n",
    "espanha = confirmed.loc['Spain'][2:]\n",
    "italia = confirmed.loc['Italy'][2:]\n",
    "outros = pd.concat([suecia,alemanha,espanha,italia], axis=1)\n",
    "outros.index = pd.to_datetime(outros.index)\n",
    "# outros['Sweden_acc'] = np.cumsum(outros.Sweden)\n",
    "# outros['Germany_acc'] = np.cumsum(outros.Germany)\n",
    "# outros['Spain_acc'] = np.cumsum(outros.Spain)\n",
    "# outros['Italy_acc'] = np.cumsum(outros.Italy)\n",
    "outros"
   ]
  },
  {
   "cell_type": "code",
   "execution_count": 53,
   "metadata": {
    "ExecuteTime": {
     "end_time": "2020-04-04T17:16:50.676893Z",
     "start_time": "2020-04-04T17:16:49.807991Z"
    }
   },
   "outputs": [
    {
     "data": {
      "image/png": "[encoded data removed]",
      "text/plain": [
       "<Figure size 1080x576 with 1 Axes>"
      ]
     },
     "metadata": {
      "needs_background": "light"
     },
     "output_type": "display_data"
    }
   ],
   "source": [
    "fig,ax = subplots(1,1,figsize=(15,8))\n",
    "df_brasil[df_brasil.casosAcumulados>0].casosAcumulados.plot(ax=ax, style='-o', \n",
    "                                                            label='Brasil',\n",
    "                                                            grid=True, \n",
    "                                                            logy=True)\n",
    "serie_US.US.plot(ax=ax, style='-v', grid=True,\n",
    "                        label='EUA',);\n",
    "outros.Sweden.plot(ax=ax, style='-v', grid=True,\n",
    "                        label='Suécia')\n",
    "outros.Germany.plot(ax=ax, style='-v', grid=True,\n",
    "                        label='Alemanha')\n",
    "outros.Spain.plot(ax=ax, style='-v', grid=True,\n",
    "                        label='Espanha')\n",
    "outros.Italy.plot(ax=ax, style='-v', grid=True,\n",
    "                        label='Italia')\n",
    "ax.legend();"
   ]
  },
  {
   "cell_type": "code",
   "execution_count": 54,
   "metadata": {
    "ExecuteTime": {
     "end_time": "2020-04-04T17:16:54.813780Z",
     "start_time": "2020-04-04T17:16:52.310300Z"
    }
   },
   "outputs": [
    {
     "data": {
      "image/png": "[encoded data removed]",
      "text/plain": [
       "<Figure size 1080x576 with 1 Axes>"
      ]
     },
     "metadata": {
      "needs_background": "light"
     },
     "output_type": "display_data"
    }
   ],
   "source": [
    "fig,ax = subplots(1,1,figsize=(15,8))\n",
    "alinhados = pd.concat([suecia[suecia>100].reset_index(),\n",
    "           alemanha[alemanha>100].reset_index(),\n",
    "           espanha[espanha>100].reset_index(),\n",
    "           italia[italia>100].reset_index()], \n",
    "          axis=1)\n",
    "alinhados['EUA'] = serie_US[serie_US.US>100].reset_index().US\n",
    "alinhados['Brasil'] = df_brasil[df_brasil.casosAcumulados>100].reset_index().casosAcumulados\n",
    "alinhados.plot(ax=ax,logy=True, grid=True);\n",
    "plt.savefig('export/Brasil_vs_outros.png', dpi=300)\n",
    "alinhados.to_csv('export/Brasil_vs_outros.csv')"
   ]
  },
  {
   "cell_type": "code",
   "execution_count": 609,
   "metadata": {
    "ExecuteTime": {
     "end_time": "2020-04-03T21:55:17.354671Z",
     "start_time": "2020-04-03T21:55:17.339172Z"
    },
    "collapsed": true
   },
   "outputs": [
    {
     "data": {
      "text/plain": [
       "0         109.0\n",
       "1         120.0\n",
       "2         131.0\n",
       "3         142.0\n",
       "4         154.0\n",
       "5         166.0\n",
       "6         179.0\n",
       "7         192.0\n",
       "8         205.0\n",
       "9         218.0\n",
       "10        231.0\n",
       "11        244.0\n",
       "12        257.0\n",
       "13        270.0\n",
       "14        285.0\n",
       "15        300.0\n",
       "16        315.0\n",
       "17        330.0\n",
       "18        345.0\n",
       "19        360.0\n",
       "20        376.0\n",
       "21        392.0\n",
       "22        416.0\n",
       "23        446.0\n",
       "24        499.0\n",
       "25        572.0\n",
       "26        676.0\n",
       "27        848.0\n",
       "28       1065.0\n",
       "29       1401.0\n",
       "30       1851.0\n",
       "31       2365.0\n",
       "32       3073.0\n",
       "33       4178.0\n",
       "34       5735.0\n",
       "35       7882.0\n",
       "36      10739.0\n",
       "37      13657.0\n",
       "38      17964.0\n",
       "39      24060.0\n",
       "40      32933.0\n",
       "41      46957.0\n",
       "42      66187.0\n",
       "43      91814.0\n",
       "44     125435.0\n",
       "45     169098.0\n",
       "46     222834.0\n",
       "47     288612.0\n",
       "48     372448.0\n",
       "49     474105.0\n",
       "50     595583.0\n",
       "51     736469.0\n",
       "52     898276.0\n",
       "53    1086448.0\n",
       "54    1299810.0\n",
       "55    1543263.0\n",
       "Name: acumulados, dtype: float64"
      ]
     },
     "execution_count": 609,
     "metadata": {},
     "output_type": "execute_result"
    }
   ],
   "source": [
    "serie_US[serie_US.acumulados>100].reset_index().acumulados"
   ]
  },
  {
   "cell_type": "code",
   "execution_count": null,
   "metadata": {},
   "outputs": [],
   "source": []
  }
 ],
 "metadata": {
  "kernelspec": {
   "display_name": "Python 3",
   "language": "python",
   "name": "python3"
  },
  "language_info": {
   "codemirror_mode": {
    "name": "ipython",
    "version": 3
   },
   "file_extension": ".py",
   "mimetype": "text/x-python",
   "name": "python",
   "nbconvert_exporter": "python",
   "pygments_lexer": "ipython3",
   "version": "3.7.5"
  },
  "latex_envs": {
   "LaTeX_envs_menu_present": true,
   "autoclose": false,
   "autocomplete": true,
   "bibliofile": "biblio.bib",
   "cite_by": "apalike",
   "current_citInitial": 1,
   "eqLabelWithNumbers": true,
   "eqNumInitial": 1,
   "hotkeys": {
    "equation": "Ctrl-E",
    "itemize": "Ctrl-I"
   },
   "labels_anchors": false,
   "latex_user_defs": false,
   "report_style_numbering": false,
   "user_envs_cfg": false
  },
  "toc": {
   "base_numbering": 1,
   "nav_menu": {},
   "number_sections": true,
   "sideBar": true,
   "skip_h1_title": false,
   "title_cell": "Table of Contents",
   "title_sidebar": "Contents",
   "toc_cell": false,
   "toc_position": {
    "height": "calc(100% - 180px)",
    "left": "10px",
    "top": "150px",
    "width": "204.4px"
   },
   "toc_section_display": true,
   "toc_window_display": true
  },
  "varInspector": {
   "cols": {
    "lenName": 16,
    "lenType": 16,
    "lenVar": 40
   },
   "kernels_config": {
    "python": {
     "delete_cmd_postfix": "",
     "delete_cmd_prefix": "del ",
     "library": "var_list.py",
     "varRefreshCmd": "print(var_dic_list())"
    },
    "r": {
     "delete_cmd_postfix": ") ",
     "delete_cmd_prefix": "rm(",
     "library": "var_list.r",
     "varRefreshCmd": "cat(var_dic_list()) "
    }
   },
   "types_to_exclude": [
    "module",
    "function",
    "builtin_function_or_method",
    "instance",
    "_Feature"
   ],
   "window_display": false
  }
 },
 "nbformat": 4,
 "nbformat_minor": 2
}
