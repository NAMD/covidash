{
 "cells": [
  {
   "cell_type": "markdown",
   "metadata": {},
   "source": [
    "# Maping the wave of spread of covid-19"
   ]
  },
  {
   "cell_type": "code",
   "execution_count": 29,
   "metadata": {
    "ExecuteTime": {
     "end_time": "2020-04-11T16:31:11.241878Z",
     "start_time": "2020-04-11T16:31:11.199990Z"
    }
   },
   "outputs": [],
   "source": [
    "import outbreak\n",
    "import pandas as pd\n",
    "import geopandas as gpd\n",
    "import copy\n",
    "import os\n",
    "os.environ['MAPBOX_API_KEY'] = 'pk.eyJ1IjoiZmNjb2VsaG8iLCJhIjoiY2s4c293dzc3MGJodzNmcGEweTgxdGpudyJ9.UmSRs3e4EqTOte6jYWoaxg'\n",
    "import pydeck\n",
    "import ujson"
   ]
  },
  {
   "cell_type": "markdown",
   "metadata": {},
   "source": [
    "## Loading the data"
   ]
  },
  {
   "cell_type": "code",
   "execution_count": 2,
   "metadata": {
    "ExecuteTime": {
     "end_time": "2020-04-11T15:55:04.209572Z",
     "start_time": "2020-04-11T15:54:46.225808Z"
    }
   },
   "outputs": [
    {
     "data": {
      "text/html": [
       "<div>\n",
       "<style scoped>\n",
       "    .dataframe tbody tr th:only-of-type {\n",
       "        vertical-align: middle;\n",
       "    }\n",
       "\n",
       "    .dataframe tbody tr th {\n",
       "        vertical-align: top;\n",
       "    }\n",
       "\n",
       "    .dataframe thead th {\n",
       "        text-align: right;\n",
       "    }\n",
       "</style>\n",
       "<table border=\"1\" class=\"dataframe\">\n",
       "  <thead>\n",
       "    <tr style=\"text-align: right;\">\n",
       "      <th></th>\n",
       "      <th>date</th>\n",
       "      <th>state</th>\n",
       "      <th>city</th>\n",
       "      <th>place_type</th>\n",
       "      <th>confirmed</th>\n",
       "      <th>deaths</th>\n",
       "      <th>is_last</th>\n",
       "      <th>estimated_population_2019</th>\n",
       "      <th>city_ibge_code</th>\n",
       "      <th>confirmed_per_100k_inhabitants</th>\n",
       "      <th>death_rate</th>\n",
       "    </tr>\n",
       "  </thead>\n",
       "  <tbody>\n",
       "    <tr>\n",
       "      <th>0</th>\n",
       "      <td>2020-04-10</td>\n",
       "      <td>AC</td>\n",
       "      <td>Acrelândia</td>\n",
       "      <td>city</td>\n",
       "      <td>9</td>\n",
       "      <td>0.0</td>\n",
       "      <td>True</td>\n",
       "      <td>15256.0</td>\n",
       "      <td>1200013.0</td>\n",
       "      <td>58.99318</td>\n",
       "      <td>NaN</td>\n",
       "    </tr>\n",
       "    <tr>\n",
       "      <th>1</th>\n",
       "      <td>2020-04-10</td>\n",
       "      <td>AC</td>\n",
       "      <td>Bujari</td>\n",
       "      <td>city</td>\n",
       "      <td>1</td>\n",
       "      <td>0.0</td>\n",
       "      <td>True</td>\n",
       "      <td>10266.0</td>\n",
       "      <td>1200138.0</td>\n",
       "      <td>9.74089</td>\n",
       "      <td>NaN</td>\n",
       "    </tr>\n",
       "    <tr>\n",
       "      <th>2</th>\n",
       "      <td>2020-04-10</td>\n",
       "      <td>AC</td>\n",
       "      <td>Plácido de Castro</td>\n",
       "      <td>city</td>\n",
       "      <td>4</td>\n",
       "      <td>0.0</td>\n",
       "      <td>True</td>\n",
       "      <td>19761.0</td>\n",
       "      <td>1200385.0</td>\n",
       "      <td>20.24189</td>\n",
       "      <td>NaN</td>\n",
       "    </tr>\n",
       "    <tr>\n",
       "      <th>3</th>\n",
       "      <td>2020-04-10</td>\n",
       "      <td>AC</td>\n",
       "      <td>Porto Acre</td>\n",
       "      <td>city</td>\n",
       "      <td>1</td>\n",
       "      <td>0.0</td>\n",
       "      <td>True</td>\n",
       "      <td>18504.0</td>\n",
       "      <td>1200807.0</td>\n",
       "      <td>5.40424</td>\n",
       "      <td>NaN</td>\n",
       "    </tr>\n",
       "    <tr>\n",
       "      <th>4</th>\n",
       "      <td>2020-04-10</td>\n",
       "      <td>AC</td>\n",
       "      <td>Rio Branco</td>\n",
       "      <td>city</td>\n",
       "      <td>55</td>\n",
       "      <td>2.0</td>\n",
       "      <td>True</td>\n",
       "      <td>407319.0</td>\n",
       "      <td>1200401.0</td>\n",
       "      <td>13.50293</td>\n",
       "      <td>0.0364</td>\n",
       "    </tr>\n",
       "    <tr>\n",
       "      <th>...</th>\n",
       "      <td>...</td>\n",
       "      <td>...</td>\n",
       "      <td>...</td>\n",
       "      <td>...</td>\n",
       "      <td>...</td>\n",
       "      <td>...</td>\n",
       "      <td>...</td>\n",
       "      <td>...</td>\n",
       "      <td>...</td>\n",
       "      <td>...</td>\n",
       "      <td>...</td>\n",
       "    </tr>\n",
       "    <tr>\n",
       "      <th>10407</th>\n",
       "      <td>2020-02-27</td>\n",
       "      <td>SP</td>\n",
       "      <td>São Paulo</td>\n",
       "      <td>city</td>\n",
       "      <td>1</td>\n",
       "      <td>NaN</td>\n",
       "      <td>False</td>\n",
       "      <td>12252023.0</td>\n",
       "      <td>3550308.0</td>\n",
       "      <td>0.00816</td>\n",
       "      <td>NaN</td>\n",
       "    </tr>\n",
       "    <tr>\n",
       "      <th>10408</th>\n",
       "      <td>2020-02-27</td>\n",
       "      <td>SP</td>\n",
       "      <td>NaN</td>\n",
       "      <td>state</td>\n",
       "      <td>1</td>\n",
       "      <td>0.0</td>\n",
       "      <td>False</td>\n",
       "      <td>45919049.0</td>\n",
       "      <td>35.0</td>\n",
       "      <td>0.00218</td>\n",
       "      <td>NaN</td>\n",
       "    </tr>\n",
       "    <tr>\n",
       "      <th>10409</th>\n",
       "      <td>2020-02-26</td>\n",
       "      <td>SP</td>\n",
       "      <td>NaN</td>\n",
       "      <td>state</td>\n",
       "      <td>1</td>\n",
       "      <td>0.0</td>\n",
       "      <td>False</td>\n",
       "      <td>45919049.0</td>\n",
       "      <td>35.0</td>\n",
       "      <td>0.00218</td>\n",
       "      <td>NaN</td>\n",
       "    </tr>\n",
       "    <tr>\n",
       "      <th>10410</th>\n",
       "      <td>2020-02-25</td>\n",
       "      <td>SP</td>\n",
       "      <td>São Paulo</td>\n",
       "      <td>city</td>\n",
       "      <td>1</td>\n",
       "      <td>NaN</td>\n",
       "      <td>False</td>\n",
       "      <td>12252023.0</td>\n",
       "      <td>3550308.0</td>\n",
       "      <td>0.00816</td>\n",
       "      <td>NaN</td>\n",
       "    </tr>\n",
       "    <tr>\n",
       "      <th>10411</th>\n",
       "      <td>2020-02-25</td>\n",
       "      <td>SP</td>\n",
       "      <td>NaN</td>\n",
       "      <td>state</td>\n",
       "      <td>1</td>\n",
       "      <td>0.0</td>\n",
       "      <td>False</td>\n",
       "      <td>45919049.0</td>\n",
       "      <td>35.0</td>\n",
       "      <td>0.00218</td>\n",
       "      <td>NaN</td>\n",
       "    </tr>\n",
       "  </tbody>\n",
       "</table>\n",
       "<p>10412 rows × 11 columns</p>\n",
       "</div>"
      ],
      "text/plain": [
       "             date state               city place_type  confirmed  deaths  \\\n",
       "0      2020-04-10    AC         Acrelândia       city          9     0.0   \n",
       "1      2020-04-10    AC             Bujari       city          1     0.0   \n",
       "2      2020-04-10    AC  Plácido de Castro       city          4     0.0   \n",
       "3      2020-04-10    AC         Porto Acre       city          1     0.0   \n",
       "4      2020-04-10    AC         Rio Branco       city         55     2.0   \n",
       "...           ...   ...                ...        ...        ...     ...   \n",
       "10407  2020-02-27    SP          São Paulo       city          1     NaN   \n",
       "10408  2020-02-27    SP                NaN      state          1     0.0   \n",
       "10409  2020-02-26    SP                NaN      state          1     0.0   \n",
       "10410  2020-02-25    SP          São Paulo       city          1     NaN   \n",
       "10411  2020-02-25    SP                NaN      state          1     0.0   \n",
       "\n",
       "       is_last  estimated_population_2019  city_ibge_code  \\\n",
       "0         True                    15256.0       1200013.0   \n",
       "1         True                    10266.0       1200138.0   \n",
       "2         True                    19761.0       1200385.0   \n",
       "3         True                    18504.0       1200807.0   \n",
       "4         True                   407319.0       1200401.0   \n",
       "...        ...                        ...             ...   \n",
       "10407    False                 12252023.0       3550308.0   \n",
       "10408    False                 45919049.0            35.0   \n",
       "10409    False                 45919049.0            35.0   \n",
       "10410    False                 12252023.0       3550308.0   \n",
       "10411    False                 45919049.0            35.0   \n",
       "\n",
       "       confirmed_per_100k_inhabitants  death_rate  \n",
       "0                            58.99318         NaN  \n",
       "1                             9.74089         NaN  \n",
       "2                            20.24189         NaN  \n",
       "3                             5.40424         NaN  \n",
       "4                            13.50293      0.0364  \n",
       "...                               ...         ...  \n",
       "10407                         0.00816         NaN  \n",
       "10408                         0.00218         NaN  \n",
       "10409                         0.00218         NaN  \n",
       "10410                         0.00816         NaN  \n",
       "10411                         0.00218         NaN  \n",
       "\n",
       "[10412 rows x 11 columns]"
      ]
     },
     "execution_count": 2,
     "metadata": {},
     "output_type": "execute_result"
    }
   ],
   "source": [
    "F = outbreak.read_flow_matrix('../csv/flowmatrix_full_mun.csv.gz', header=0) \n",
    "nodes = outbreak.read_nodes('../csv/nodesUF.csv.gz')\n",
    "# nodes['incidence'] = nodes.I/nodes.tgtpop\n",
    "mapa = gpd.read_file('../malha/muni_br.gpkg')\n",
    "# Fetching cases from Brasil.io\n",
    "cases = pd.read_csv('https://brasil.io/dataset/covid19/caso?format=csv')\n",
    "nodes = pd.merge(nodes,cases[(cases.is_last)], left_on='tgt', right_on='city_ibge_code', how='left')\n",
    "nodes = nodes[['tgt','tgtname','tgt_UFCOD','tgtpop','confirmed']]\n",
    "nodes.fillna(0, inplace=True)\n",
    "cases"
   ]
  },
  {
   "cell_type": "markdown",
   "metadata": {},
   "source": [
    "Add to map only the latest count per municipality"
   ]
  },
  {
   "cell_type": "code",
   "execution_count": 3,
   "metadata": {
    "ExecuteTime": {
     "end_time": "2020-04-11T15:55:23.067138Z",
     "start_time": "2020-04-11T15:55:04.809400Z"
    }
   },
   "outputs": [],
   "source": [
    "mapa['casos']=0\n",
    "for i, row in mapa.iterrows():\n",
    "    if row.code_muni in list(cases.city_ibge_code):\n",
    "        mapa.loc[mapa.code_muni==row.code_muni, 'casos'] += cases[(cases.city_ibge_code==row.code_muni)&\n",
    "                                                                  (cases.is_last)].confirmed.iloc[0]"
   ]
  },
  {
   "cell_type": "code",
   "execution_count": 4,
   "metadata": {
    "ExecuteTime": {
     "end_time": "2020-04-11T15:55:23.789641Z",
     "start_time": "2020-04-11T15:55:23.782575Z"
    }
   },
   "outputs": [],
   "source": [
    "def get_seeds(nodes, threshold=100):\n",
    "    '''\n",
    "    Only consider cities with more than `threshold` cases as seeds\n",
    "    '''\n",
    "    seeds = copy.deepcopy(nodes)\n",
    "    seeds.confirmed = [c if c>=100 else 0 for c in nodes.confirmed]\n",
    "    # nodes = nodes[nodes.confirmed >=100]\n",
    "    seeds.fillna(0,inplace=True)\n",
    "    seeds['incidence'] = (seeds.confirmed/seeds.tgtpop)\n",
    "    return seeds"
   ]
  },
  {
   "cell_type": "code",
   "execution_count": 5,
   "metadata": {
    "ExecuteTime": {
     "end_time": "2020-04-11T15:55:25.205058Z",
     "start_time": "2020-04-11T15:55:24.371011Z"
    }
   },
   "outputs": [
    {
     "data": {
      "text/plain": [
       "array([0.        , 0.        , 0.        , ..., 0.77754959, 0.11005735,\n",
       "       1.        ])"
      ]
     },
     "execution_count": 5,
     "metadata": {},
     "output_type": "execute_result"
    }
   ],
   "source": [
    "attenuation = 1 # 1 means no attenuation\n",
    "r0=2.5\n",
    "seeds = get_seeds(nodes,100)\n",
    "probs = outbreak.get_outbreaks(F, seeds.incidence, R0=r0, attenuate=attenuation)\n",
    "probs"
   ]
  },
  {
   "cell_type": "code",
   "execution_count": 7,
   "metadata": {
    "ExecuteTime": {
     "end_time": "2020-04-11T15:55:46.961748Z",
     "start_time": "2020-04-11T15:55:46.923691Z"
    }
   },
   "outputs": [],
   "source": [
    "nodes['probs'] = probs\n",
    "mapap = pd.merge(mapa, nodes, left_on='code_muni', right_on='tgt')"
   ]
  },
  {
   "cell_type": "code",
   "execution_count": 40,
   "metadata": {
    "ExecuteTime": {
     "end_time": "2020-04-11T16:47:02.016342Z",
     "start_time": "2020-04-11T16:47:01.006882Z"
    }
   },
   "outputs": [],
   "source": [
    "DATA = ujson.loads(mapap[mapap.probs>0.5].to_json())"
   ]
  },
  {
   "cell_type": "code",
   "execution_count": 42,
   "metadata": {
    "ExecuteTime": {
     "end_time": "2020-04-11T16:49:31.682229Z",
     "start_time": "2020-04-11T16:49:31.023362Z"
    }
   },
   "outputs": [
    {
     "data": {
      "text/html": [
       "\n",
       "        <iframe\n",
       "            width=\"700\"\n",
       "            height=\"500\"\n",
       "            src=\"./pydeck5x4bpbc8.html\"\n",
       "            frameborder=\"0\"\n",
       "            allowfullscreen\n",
       "        ></iframe>\n",
       "        "
      ],
      "text/plain": [
       "<IPython.lib.display.IFrame at 0x7fa5aff1ead0>"
      ]
     },
     "metadata": {},
     "output_type": "display_data"
    },
    {
     "data": {
      "text/plain": [
       "'/home/fccoelho/Mega/Papers/Covid-19-epigrass/covid-19/Modelagem Epi/pydeck5x4bpbc8.html'"
      ]
     },
     "execution_count": 42,
     "metadata": {},
     "output_type": "execute_result"
    }
   ],
   "source": [
    "\n",
    "LAND_COVER = [[[-54.291, -14.139], [-54.39180562, -14.23962137], [-54.39180562, -14.23962137], [-54.291, -14.139]]]\n",
    "\n",
    "INITIAL_VIEW_STATE = pydeck.ViewState(\n",
    "  latitude=-14.23962137,\n",
    "  longitude= -54.39180562,\n",
    "  zoom=3,\n",
    "  max_zoom=16,\n",
    "  pitch=45,\n",
    "  bearing=0\n",
    ")\n",
    "\n",
    "polygon = pydeck.Layer(\n",
    "    'PolygonLayer',\n",
    "    LAND_COVER,\n",
    "    stroked=False,\n",
    "    # processes the data as a flat longitude-latitude pair\n",
    "    get_polygon='-',\n",
    "    get_fill_color=[0, 0, 0, 20]\n",
    ")\n",
    "\n",
    "geojson = pydeck.Layer(\n",
    "    'GeoJsonLayer',\n",
    "    DATA,\n",
    "    opacity=0.8,\n",
    "    stroked=False,\n",
    "    filled=True,\n",
    "    extruded=True,\n",
    "    wireframe=True,\n",
    "#     mapbox_key='pk.eyJ1IjoiZmNjb2VsaG8iLCJhIjoiY2s4c293dzc3MGJodzNmcGEweTgxdGpudyJ9.UmSRs3e4EqTOte6jYWoaxg',\n",
    "    get_elevation='properties.casos',\n",
    "    get_fill_color='[properties.probs *255, 255*(1-properties.probs), properties.probs * 255]',\n",
    "    get_line_color=[255, 255, 255],\n",
    "    pickable=True\n",
    ")\n",
    "\n",
    "r = pydeck.Deck(\n",
    "    layers=[polygon,geojson],\n",
    "    initial_view_state=INITIAL_VIEW_STATE)\n",
    "\n",
    "r.to_html()"
   ]
  },
  {
   "cell_type": "code",
   "execution_count": 13,
   "metadata": {
    "ExecuteTime": {
     "end_time": "2020-04-11T16:01:46.715857Z",
     "start_time": "2020-04-11T16:01:46.226979Z"
    }
   },
   "outputs": [
    {
     "data": {
      "text/plain": [
       "array([-54.39180562, -14.23962137])"
      ]
     },
     "execution_count": 13,
     "metadata": {},
     "output_type": "execute_result"
    }
   ],
   "source": [
    "mapap.total_bounds.reshape((2,2)).mean(axis=0)"
   ]
  },
  {
   "cell_type": "code",
   "execution_count": 34,
   "metadata": {
    "ExecuteTime": {
     "end_time": "2020-04-11T16:37:34.463499Z",
     "start_time": "2020-04-11T16:37:34.448000Z"
    }
   },
   "outputs": [],
   "source": [
    "pydeck.Layer?"
   ]
  },
  {
   "cell_type": "code",
   "execution_count": null,
   "metadata": {},
   "outputs": [],
   "source": []
  }
 ],
 "metadata": {
  "kernelspec": {
   "display_name": "Python 3",
   "language": "python",
   "name": "python3"
  },
  "language_info": {
   "codemirror_mode": {
    "name": "ipython",
    "version": 3
   },
   "file_extension": ".py",
   "mimetype": "text/x-python",
   "name": "python",
   "nbconvert_exporter": "python",
   "pygments_lexer": "ipython3",
   "version": "3.7.5"
  },
  "latex_envs": {
   "LaTeX_envs_menu_present": true,
   "autoclose": false,
   "autocomplete": true,
   "bibliofile": "biblio.bib",
   "cite_by": "apalike",
   "current_citInitial": 1,
   "eqLabelWithNumbers": true,
   "eqNumInitial": 1,
   "hotkeys": {
    "equation": "Ctrl-E",
    "itemize": "Ctrl-I"
   },
   "labels_anchors": false,
   "latex_user_defs": false,
   "report_style_numbering": false,
   "user_envs_cfg": false
  },
  "toc": {
   "base_numbering": 1,
   "nav_menu": {},
   "number_sections": true,
   "sideBar": true,
   "skip_h1_title": false,
   "title_cell": "Table of Contents",
   "title_sidebar": "Contents",
   "toc_cell": false,
   "toc_position": {},
   "toc_section_display": true,
   "toc_window_display": true
  },
  "varInspector": {
   "cols": {
    "lenName": 16,
    "lenType": 16,
    "lenVar": 40
   },
   "kernels_config": {
    "python": {
     "delete_cmd_postfix": "",
     "delete_cmd_prefix": "del ",
     "library": "var_list.py",
     "varRefreshCmd": "print(var_dic_list())"
    },
    "r": {
     "delete_cmd_postfix": ") ",
     "delete_cmd_prefix": "rm(",
     "library": "var_list.r",
     "varRefreshCmd": "cat(var_dic_list()) "
    }
   },
   "types_to_exclude": [
    "module",
    "function",
    "builtin_function_or_method",
    "instance",
    "_Feature"
   ],
   "window_display": false
  }
 },
 "nbformat": 4,
 "nbformat_minor": 4
}
